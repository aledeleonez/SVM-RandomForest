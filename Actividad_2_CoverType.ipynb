{
  "cells": [
    {
      "cell_type": "markdown",
      "id": "d527775b",
      "metadata": {
        "id": "d527775b"
      },
      "source": [
        "![image.png](attachment:image.png)\n",
        "\n",
        "_Alejandro de León Fernández_\n",
        "\n",
        "_Aprendizaje Automático_\n",
        "\n",
        "_Máster Universitario en Inteligencia Artificial_\n",
        "\n",
        "# Actividad: Clasificación con máquinas de vectores de soporte y random forest\n",
        "\n",
        "## Objetivos\n",
        "\n",
        "Mediante esta actividad se pretende que ponga en práctica la creación de modelos basados en máquinas de vector de soporte y random forest. El objetivo es comprender de forma práctica con un problema determinado las diferencias que existen a la hora de entrenar los diferentes modelos.\n",
        "\n",
        "- Comprender el tratamiento de datos que hay que realizar para los modelos de clasificación.\n",
        "- Entender y aplicar el algoritmo de Random Forest a un problema de clasificación.\n",
        "- Entender y aplicar el algoritmo de Support Vector Machine a un problema de clasificación.\n",
        "- Evaluar y analizar los resultados de los clasificadores.\n",
        "- Investigar la aplicación de los modelos de clasificación a problemas reales.\n",
        "\n",
        "\n",
        "## Descripción de la actividad\n",
        "\n",
        "Debes completar los espacios indicados en el notebook con el código solicitado y la respuesta, en función de lo que se solicite. Ten encuenta que las celdas vacías indican cuántas líneas debe ocupar la respuesta, por lo general no más de una línea.\n",
        "\n",
        "El conjunto de datos con el que vamos a trabajar se encuentra en el siguiente enlace: https://archive.ics.uci.edu/dataset/31/covertype\n",
        "\n",
        "Este dataset ha sido generado para predecir el tipo de cubierta forestal únicamente a partir de variables cartográficas (sin datos de sensores remotos). El tipo de cubierta forestal real para una observación determinada (celda de 30 x 30 metros) se determinó a partir de los datos del Sistema de información de recursos (RIS) de la Región 2 del Servicio Forestal de EE. UU. (USFS). Las variables independientes se derivaron de datos obtenidos originalmente del Servicio Geológico de EE. UU. (USGS) y de datos del USFS. Los datos están en forma original (no escalados) y contienen columnas binarias (0 o 1) de datos para variables cualitativas independientes (áreas silvestres y tipos de suelo).\n",
        "Para ampliar información sobre el dataset y su origen, recomendamos leer la descripción completa del dataset en el enlace del repositorio. l.\n",
        "\n",
        "El objetivo de la clasificación será detectar el tipo de suelo.\n",
        "\n",
        "### Tareas que se deben realizar\n",
        "\n",
        "- Análisis descriptivo de los datos:\n",
        "   - Debe completarse el código solicitado y responder a las preguntas. Todo ello en el notebook dado como base.\n",
        "- Clasificación:\n",
        "  - Debe completarse el código solicitado y responder a las preguntas. Todo ello en el notebook dado como base.\n",
        "- Investigación:\n",
        "  - Buscar un artículo científico (https://scholar.google.es/) con un caso de uso de clasificación empleando una de las dos técnicas (o ambas) vistas en la actividad. Los artículos deben estar en revistas científicas, y deben ser posteriores a 2015. No debe utilizar técnicas de Deep Learning.\n",
        "  - Para el artículo indicar:\n",
        "    - Objetivo: cuál es el objetivo de la investigación, es decir a qué problema real está aplicando la clasificación.\n",
        "    - Cómo utilizan las técnicas de clasificación, si realizan alguna adaptación de los algoritmos indicarse.\n",
        "    - Principales resultados de la aplicación y de la investigación.\n"
      ]
    },
    {
      "cell_type": "markdown",
      "id": "c399e1d6",
      "metadata": {
        "id": "c399e1d6"
      },
      "source": [
        "### Análisis descriptivo de los datos"
      ]
    },
    {
      "cell_type": "code",
      "source": [
        "!pip install ucimlrepo"
      ],
      "metadata": {
        "colab": {
          "base_uri": "https://localhost:8080/"
        },
        "id": "9tv7-c4tQxTL",
        "outputId": "e168f869-b626-4bb8-d54f-d821d826c138"
      },
      "id": "9tv7-c4tQxTL",
      "execution_count": null,
      "outputs": [
        {
          "output_type": "stream",
          "name": "stdout",
          "text": [
            "Collecting ucimlrepo\n",
            "  Downloading ucimlrepo-0.0.7-py3-none-any.whl.metadata (5.5 kB)\n",
            "Requirement already satisfied: pandas>=1.0.0 in /usr/local/lib/python3.11/dist-packages (from ucimlrepo) (2.2.2)\n",
            "Requirement already satisfied: certifi>=2020.12.5 in /usr/local/lib/python3.11/dist-packages (from ucimlrepo) (2024.12.14)\n",
            "Requirement already satisfied: numpy>=1.23.2 in /usr/local/lib/python3.11/dist-packages (from pandas>=1.0.0->ucimlrepo) (1.26.4)\n",
            "Requirement already satisfied: python-dateutil>=2.8.2 in /usr/local/lib/python3.11/dist-packages (from pandas>=1.0.0->ucimlrepo) (2.8.2)\n",
            "Requirement already satisfied: pytz>=2020.1 in /usr/local/lib/python3.11/dist-packages (from pandas>=1.0.0->ucimlrepo) (2024.2)\n",
            "Requirement already satisfied: tzdata>=2022.7 in /usr/local/lib/python3.11/dist-packages (from pandas>=1.0.0->ucimlrepo) (2024.2)\n",
            "Requirement already satisfied: six>=1.5 in /usr/local/lib/python3.11/dist-packages (from python-dateutil>=2.8.2->pandas>=1.0.0->ucimlrepo) (1.17.0)\n",
            "Downloading ucimlrepo-0.0.7-py3-none-any.whl (8.0 kB)\n",
            "Installing collected packages: ucimlrepo\n",
            "Successfully installed ucimlrepo-0.0.7\n"
          ]
        }
      ]
    },
    {
      "cell_type": "code",
      "execution_count": null,
      "id": "ed8056a1",
      "metadata": {
        "id": "ed8056a1"
      },
      "outputs": [],
      "source": [
        "from ucimlrepo import fetch_ucirepo\n",
        "import numpy as np\n",
        "import pandas as pd\n",
        "from matplotlib import pyplot as plt\n",
        "import seaborn as sns"
      ]
    },
    {
      "cell_type": "code",
      "execution_count": null,
      "id": "9c732dd7",
      "metadata": {
        "id": "9c732dd7",
        "colab": {
          "base_uri": "https://localhost:8080/",
          "height": 256
        },
        "outputId": "f0468713-b29d-49e3-fa59-8fa44419b5df"
      },
      "outputs": [
        {
          "output_type": "execute_result",
          "data": {
            "text/plain": [
              "   Elevation  Aspect  Slope  Horizontal_Distance_To_Hydrology  \\\n",
              "0       2596      51      3                               258   \n",
              "1       2590      56      2                               212   \n",
              "2       2804     139      9                               268   \n",
              "3       2785     155     18                               242   \n",
              "4       2595      45      2                               153   \n",
              "\n",
              "   Vertical_Distance_To_Hydrology  Horizontal_Distance_To_Roadways  \\\n",
              "0                               0                              510   \n",
              "1                              -6                              390   \n",
              "2                              65                             3180   \n",
              "3                             118                             3090   \n",
              "4                              -1                              391   \n",
              "\n",
              "   Hillshade_9am  Hillshade_Noon  Hillshade_3pm  \\\n",
              "0            221             232            148   \n",
              "1            220             235            151   \n",
              "2            234             238            135   \n",
              "3            238             238            122   \n",
              "4            220             234            150   \n",
              "\n",
              "   Horizontal_Distance_To_Fire_Points  ...  Soil_Type35  Soil_Type36  \\\n",
              "0                                6279  ...            0            0   \n",
              "1                                6225  ...            0            0   \n",
              "2                                6121  ...            0            0   \n",
              "3                                6211  ...            0            0   \n",
              "4                                6172  ...            0            0   \n",
              "\n",
              "   Soil_Type37  Soil_Type38  Soil_Type39  Soil_Type40  Wilderness_Area2  \\\n",
              "0            0            0            0            0                 0   \n",
              "1            0            0            0            0                 0   \n",
              "2            0            0            0            0                 0   \n",
              "3            0            0            0            0                 0   \n",
              "4            0            0            0            0                 0   \n",
              "\n",
              "   Wilderness_Area3  Wilderness_Area4  Cover_Type  \n",
              "0                 0                 0           5  \n",
              "1                 0                 0           5  \n",
              "2                 0                 0           2  \n",
              "3                 0                 0           2  \n",
              "4                 0                 0           5  \n",
              "\n",
              "[5 rows x 55 columns]"
            ],
            "text/html": [
              "\n",
              "  <div id=\"df-c6fcf2c3-f7bc-461a-98fd-06531247b2a5\" class=\"colab-df-container\">\n",
              "    <div>\n",
              "<style scoped>\n",
              "    .dataframe tbody tr th:only-of-type {\n",
              "        vertical-align: middle;\n",
              "    }\n",
              "\n",
              "    .dataframe tbody tr th {\n",
              "        vertical-align: top;\n",
              "    }\n",
              "\n",
              "    .dataframe thead th {\n",
              "        text-align: right;\n",
              "    }\n",
              "</style>\n",
              "<table border=\"1\" class=\"dataframe\">\n",
              "  <thead>\n",
              "    <tr style=\"text-align: right;\">\n",
              "      <th></th>\n",
              "      <th>Elevation</th>\n",
              "      <th>Aspect</th>\n",
              "      <th>Slope</th>\n",
              "      <th>Horizontal_Distance_To_Hydrology</th>\n",
              "      <th>Vertical_Distance_To_Hydrology</th>\n",
              "      <th>Horizontal_Distance_To_Roadways</th>\n",
              "      <th>Hillshade_9am</th>\n",
              "      <th>Hillshade_Noon</th>\n",
              "      <th>Hillshade_3pm</th>\n",
              "      <th>Horizontal_Distance_To_Fire_Points</th>\n",
              "      <th>...</th>\n",
              "      <th>Soil_Type35</th>\n",
              "      <th>Soil_Type36</th>\n",
              "      <th>Soil_Type37</th>\n",
              "      <th>Soil_Type38</th>\n",
              "      <th>Soil_Type39</th>\n",
              "      <th>Soil_Type40</th>\n",
              "      <th>Wilderness_Area2</th>\n",
              "      <th>Wilderness_Area3</th>\n",
              "      <th>Wilderness_Area4</th>\n",
              "      <th>Cover_Type</th>\n",
              "    </tr>\n",
              "  </thead>\n",
              "  <tbody>\n",
              "    <tr>\n",
              "      <th>0</th>\n",
              "      <td>2596</td>\n",
              "      <td>51</td>\n",
              "      <td>3</td>\n",
              "      <td>258</td>\n",
              "      <td>0</td>\n",
              "      <td>510</td>\n",
              "      <td>221</td>\n",
              "      <td>232</td>\n",
              "      <td>148</td>\n",
              "      <td>6279</td>\n",
              "      <td>...</td>\n",
              "      <td>0</td>\n",
              "      <td>0</td>\n",
              "      <td>0</td>\n",
              "      <td>0</td>\n",
              "      <td>0</td>\n",
              "      <td>0</td>\n",
              "      <td>0</td>\n",
              "      <td>0</td>\n",
              "      <td>0</td>\n",
              "      <td>5</td>\n",
              "    </tr>\n",
              "    <tr>\n",
              "      <th>1</th>\n",
              "      <td>2590</td>\n",
              "      <td>56</td>\n",
              "      <td>2</td>\n",
              "      <td>212</td>\n",
              "      <td>-6</td>\n",
              "      <td>390</td>\n",
              "      <td>220</td>\n",
              "      <td>235</td>\n",
              "      <td>151</td>\n",
              "      <td>6225</td>\n",
              "      <td>...</td>\n",
              "      <td>0</td>\n",
              "      <td>0</td>\n",
              "      <td>0</td>\n",
              "      <td>0</td>\n",
              "      <td>0</td>\n",
              "      <td>0</td>\n",
              "      <td>0</td>\n",
              "      <td>0</td>\n",
              "      <td>0</td>\n",
              "      <td>5</td>\n",
              "    </tr>\n",
              "    <tr>\n",
              "      <th>2</th>\n",
              "      <td>2804</td>\n",
              "      <td>139</td>\n",
              "      <td>9</td>\n",
              "      <td>268</td>\n",
              "      <td>65</td>\n",
              "      <td>3180</td>\n",
              "      <td>234</td>\n",
              "      <td>238</td>\n",
              "      <td>135</td>\n",
              "      <td>6121</td>\n",
              "      <td>...</td>\n",
              "      <td>0</td>\n",
              "      <td>0</td>\n",
              "      <td>0</td>\n",
              "      <td>0</td>\n",
              "      <td>0</td>\n",
              "      <td>0</td>\n",
              "      <td>0</td>\n",
              "      <td>0</td>\n",
              "      <td>0</td>\n",
              "      <td>2</td>\n",
              "    </tr>\n",
              "    <tr>\n",
              "      <th>3</th>\n",
              "      <td>2785</td>\n",
              "      <td>155</td>\n",
              "      <td>18</td>\n",
              "      <td>242</td>\n",
              "      <td>118</td>\n",
              "      <td>3090</td>\n",
              "      <td>238</td>\n",
              "      <td>238</td>\n",
              "      <td>122</td>\n",
              "      <td>6211</td>\n",
              "      <td>...</td>\n",
              "      <td>0</td>\n",
              "      <td>0</td>\n",
              "      <td>0</td>\n",
              "      <td>0</td>\n",
              "      <td>0</td>\n",
              "      <td>0</td>\n",
              "      <td>0</td>\n",
              "      <td>0</td>\n",
              "      <td>0</td>\n",
              "      <td>2</td>\n",
              "    </tr>\n",
              "    <tr>\n",
              "      <th>4</th>\n",
              "      <td>2595</td>\n",
              "      <td>45</td>\n",
              "      <td>2</td>\n",
              "      <td>153</td>\n",
              "      <td>-1</td>\n",
              "      <td>391</td>\n",
              "      <td>220</td>\n",
              "      <td>234</td>\n",
              "      <td>150</td>\n",
              "      <td>6172</td>\n",
              "      <td>...</td>\n",
              "      <td>0</td>\n",
              "      <td>0</td>\n",
              "      <td>0</td>\n",
              "      <td>0</td>\n",
              "      <td>0</td>\n",
              "      <td>0</td>\n",
              "      <td>0</td>\n",
              "      <td>0</td>\n",
              "      <td>0</td>\n",
              "      <td>5</td>\n",
              "    </tr>\n",
              "  </tbody>\n",
              "</table>\n",
              "<p>5 rows × 55 columns</p>\n",
              "</div>\n",
              "    <div class=\"colab-df-buttons\">\n",
              "\n",
              "  <div class=\"colab-df-container\">\n",
              "    <button class=\"colab-df-convert\" onclick=\"convertToInteractive('df-c6fcf2c3-f7bc-461a-98fd-06531247b2a5')\"\n",
              "            title=\"Convert this dataframe to an interactive table.\"\n",
              "            style=\"display:none;\">\n",
              "\n",
              "  <svg xmlns=\"http://www.w3.org/2000/svg\" height=\"24px\" viewBox=\"0 -960 960 960\">\n",
              "    <path d=\"M120-120v-720h720v720H120Zm60-500h600v-160H180v160Zm220 220h160v-160H400v160Zm0 220h160v-160H400v160ZM180-400h160v-160H180v160Zm440 0h160v-160H620v160ZM180-180h160v-160H180v160Zm440 0h160v-160H620v160Z\"/>\n",
              "  </svg>\n",
              "    </button>\n",
              "\n",
              "  <style>\n",
              "    .colab-df-container {\n",
              "      display:flex;\n",
              "      gap: 12px;\n",
              "    }\n",
              "\n",
              "    .colab-df-convert {\n",
              "      background-color: #E8F0FE;\n",
              "      border: none;\n",
              "      border-radius: 50%;\n",
              "      cursor: pointer;\n",
              "      display: none;\n",
              "      fill: #1967D2;\n",
              "      height: 32px;\n",
              "      padding: 0 0 0 0;\n",
              "      width: 32px;\n",
              "    }\n",
              "\n",
              "    .colab-df-convert:hover {\n",
              "      background-color: #E2EBFA;\n",
              "      box-shadow: 0px 1px 2px rgba(60, 64, 67, 0.3), 0px 1px 3px 1px rgba(60, 64, 67, 0.15);\n",
              "      fill: #174EA6;\n",
              "    }\n",
              "\n",
              "    .colab-df-buttons div {\n",
              "      margin-bottom: 4px;\n",
              "    }\n",
              "\n",
              "    [theme=dark] .colab-df-convert {\n",
              "      background-color: #3B4455;\n",
              "      fill: #D2E3FC;\n",
              "    }\n",
              "\n",
              "    [theme=dark] .colab-df-convert:hover {\n",
              "      background-color: #434B5C;\n",
              "      box-shadow: 0px 1px 3px 1px rgba(0, 0, 0, 0.15);\n",
              "      filter: drop-shadow(0px 1px 2px rgba(0, 0, 0, 0.3));\n",
              "      fill: #FFFFFF;\n",
              "    }\n",
              "  </style>\n",
              "\n",
              "    <script>\n",
              "      const buttonEl =\n",
              "        document.querySelector('#df-c6fcf2c3-f7bc-461a-98fd-06531247b2a5 button.colab-df-convert');\n",
              "      buttonEl.style.display =\n",
              "        google.colab.kernel.accessAllowed ? 'block' : 'none';\n",
              "\n",
              "      async function convertToInteractive(key) {\n",
              "        const element = document.querySelector('#df-c6fcf2c3-f7bc-461a-98fd-06531247b2a5');\n",
              "        const dataTable =\n",
              "          await google.colab.kernel.invokeFunction('convertToInteractive',\n",
              "                                                    [key], {});\n",
              "        if (!dataTable) return;\n",
              "\n",
              "        const docLinkHtml = 'Like what you see? Visit the ' +\n",
              "          '<a target=\"_blank\" href=https://colab.research.google.com/notebooks/data_table.ipynb>data table notebook</a>'\n",
              "          + ' to learn more about interactive tables.';\n",
              "        element.innerHTML = '';\n",
              "        dataTable['output_type'] = 'display_data';\n",
              "        await google.colab.output.renderOutput(dataTable, element);\n",
              "        const docLink = document.createElement('div');\n",
              "        docLink.innerHTML = docLinkHtml;\n",
              "        element.appendChild(docLink);\n",
              "      }\n",
              "    </script>\n",
              "  </div>\n",
              "\n",
              "\n",
              "<div id=\"df-b18e9953-81d9-4d57-aa11-b54e20dc68a0\">\n",
              "  <button class=\"colab-df-quickchart\" onclick=\"quickchart('df-b18e9953-81d9-4d57-aa11-b54e20dc68a0')\"\n",
              "            title=\"Suggest charts\"\n",
              "            style=\"display:none;\">\n",
              "\n",
              "<svg xmlns=\"http://www.w3.org/2000/svg\" height=\"24px\"viewBox=\"0 0 24 24\"\n",
              "     width=\"24px\">\n",
              "    <g>\n",
              "        <path d=\"M19 3H5c-1.1 0-2 .9-2 2v14c0 1.1.9 2 2 2h14c1.1 0 2-.9 2-2V5c0-1.1-.9-2-2-2zM9 17H7v-7h2v7zm4 0h-2V7h2v10zm4 0h-2v-4h2v4z\"/>\n",
              "    </g>\n",
              "</svg>\n",
              "  </button>\n",
              "\n",
              "<style>\n",
              "  .colab-df-quickchart {\n",
              "      --bg-color: #E8F0FE;\n",
              "      --fill-color: #1967D2;\n",
              "      --hover-bg-color: #E2EBFA;\n",
              "      --hover-fill-color: #174EA6;\n",
              "      --disabled-fill-color: #AAA;\n",
              "      --disabled-bg-color: #DDD;\n",
              "  }\n",
              "\n",
              "  [theme=dark] .colab-df-quickchart {\n",
              "      --bg-color: #3B4455;\n",
              "      --fill-color: #D2E3FC;\n",
              "      --hover-bg-color: #434B5C;\n",
              "      --hover-fill-color: #FFFFFF;\n",
              "      --disabled-bg-color: #3B4455;\n",
              "      --disabled-fill-color: #666;\n",
              "  }\n",
              "\n",
              "  .colab-df-quickchart {\n",
              "    background-color: var(--bg-color);\n",
              "    border: none;\n",
              "    border-radius: 50%;\n",
              "    cursor: pointer;\n",
              "    display: none;\n",
              "    fill: var(--fill-color);\n",
              "    height: 32px;\n",
              "    padding: 0;\n",
              "    width: 32px;\n",
              "  }\n",
              "\n",
              "  .colab-df-quickchart:hover {\n",
              "    background-color: var(--hover-bg-color);\n",
              "    box-shadow: 0 1px 2px rgba(60, 64, 67, 0.3), 0 1px 3px 1px rgba(60, 64, 67, 0.15);\n",
              "    fill: var(--button-hover-fill-color);\n",
              "  }\n",
              "\n",
              "  .colab-df-quickchart-complete:disabled,\n",
              "  .colab-df-quickchart-complete:disabled:hover {\n",
              "    background-color: var(--disabled-bg-color);\n",
              "    fill: var(--disabled-fill-color);\n",
              "    box-shadow: none;\n",
              "  }\n",
              "\n",
              "  .colab-df-spinner {\n",
              "    border: 2px solid var(--fill-color);\n",
              "    border-color: transparent;\n",
              "    border-bottom-color: var(--fill-color);\n",
              "    animation:\n",
              "      spin 1s steps(1) infinite;\n",
              "  }\n",
              "\n",
              "  @keyframes spin {\n",
              "    0% {\n",
              "      border-color: transparent;\n",
              "      border-bottom-color: var(--fill-color);\n",
              "      border-left-color: var(--fill-color);\n",
              "    }\n",
              "    20% {\n",
              "      border-color: transparent;\n",
              "      border-left-color: var(--fill-color);\n",
              "      border-top-color: var(--fill-color);\n",
              "    }\n",
              "    30% {\n",
              "      border-color: transparent;\n",
              "      border-left-color: var(--fill-color);\n",
              "      border-top-color: var(--fill-color);\n",
              "      border-right-color: var(--fill-color);\n",
              "    }\n",
              "    40% {\n",
              "      border-color: transparent;\n",
              "      border-right-color: var(--fill-color);\n",
              "      border-top-color: var(--fill-color);\n",
              "    }\n",
              "    60% {\n",
              "      border-color: transparent;\n",
              "      border-right-color: var(--fill-color);\n",
              "    }\n",
              "    80% {\n",
              "      border-color: transparent;\n",
              "      border-right-color: var(--fill-color);\n",
              "      border-bottom-color: var(--fill-color);\n",
              "    }\n",
              "    90% {\n",
              "      border-color: transparent;\n",
              "      border-bottom-color: var(--fill-color);\n",
              "    }\n",
              "  }\n",
              "</style>\n",
              "\n",
              "  <script>\n",
              "    async function quickchart(key) {\n",
              "      const quickchartButtonEl =\n",
              "        document.querySelector('#' + key + ' button');\n",
              "      quickchartButtonEl.disabled = true;  // To prevent multiple clicks.\n",
              "      quickchartButtonEl.classList.add('colab-df-spinner');\n",
              "      try {\n",
              "        const charts = await google.colab.kernel.invokeFunction(\n",
              "            'suggestCharts', [key], {});\n",
              "      } catch (error) {\n",
              "        console.error('Error during call to suggestCharts:', error);\n",
              "      }\n",
              "      quickchartButtonEl.classList.remove('colab-df-spinner');\n",
              "      quickchartButtonEl.classList.add('colab-df-quickchart-complete');\n",
              "    }\n",
              "    (() => {\n",
              "      let quickchartButtonEl =\n",
              "        document.querySelector('#df-b18e9953-81d9-4d57-aa11-b54e20dc68a0 button');\n",
              "      quickchartButtonEl.style.display =\n",
              "        google.colab.kernel.accessAllowed ? 'block' : 'none';\n",
              "    })();\n",
              "  </script>\n",
              "</div>\n",
              "\n",
              "    </div>\n",
              "  </div>\n"
            ],
            "application/vnd.google.colaboratory.intrinsic+json": {
              "type": "dataframe",
              "variable_name": "df"
            }
          },
          "metadata": {},
          "execution_count": 3
        }
      ],
      "source": [
        "# se carga el dataset\n",
        "#df = pd.read_csv('covertype/covtype.csv')\n",
        "cover_type = fetch_ucirepo(id=31)\n",
        "df = pd.DataFrame(data=cover_type.data.features)\n",
        "df2 = pd.DataFrame(data=cover_type.data.targets)\n",
        "df = pd.concat([df, df2], axis=1)\n",
        "df.head(5)"
      ]
    },
    {
      "cell_type": "code",
      "source": [
        "df.info()"
      ],
      "metadata": {
        "colab": {
          "base_uri": "https://localhost:8080/"
        },
        "id": "JKxcyCZaRqAD",
        "outputId": "3f30b74e-6e84-4eae-c8ec-582e918f21bc"
      },
      "id": "JKxcyCZaRqAD",
      "execution_count": null,
      "outputs": [
        {
          "output_type": "stream",
          "name": "stdout",
          "text": [
            "<class 'pandas.core.frame.DataFrame'>\n",
            "RangeIndex: 581012 entries, 0 to 581011\n",
            "Data columns (total 55 columns):\n",
            " #   Column                              Non-Null Count   Dtype\n",
            "---  ------                              --------------   -----\n",
            " 0   Elevation                           581012 non-null  int64\n",
            " 1   Aspect                              581012 non-null  int64\n",
            " 2   Slope                               581012 non-null  int64\n",
            " 3   Horizontal_Distance_To_Hydrology    581012 non-null  int64\n",
            " 4   Vertical_Distance_To_Hydrology      581012 non-null  int64\n",
            " 5   Horizontal_Distance_To_Roadways     581012 non-null  int64\n",
            " 6   Hillshade_9am                       581012 non-null  int64\n",
            " 7   Hillshade_Noon                      581012 non-null  int64\n",
            " 8   Hillshade_3pm                       581012 non-null  int64\n",
            " 9   Horizontal_Distance_To_Fire_Points  581012 non-null  int64\n",
            " 10  Wilderness_Area1                    581012 non-null  int64\n",
            " 11  Soil_Type1                          581012 non-null  int64\n",
            " 12  Soil_Type2                          581012 non-null  int64\n",
            " 13  Soil_Type3                          581012 non-null  int64\n",
            " 14  Soil_Type4                          581012 non-null  int64\n",
            " 15  Soil_Type5                          581012 non-null  int64\n",
            " 16  Soil_Type6                          581012 non-null  int64\n",
            " 17  Soil_Type7                          581012 non-null  int64\n",
            " 18  Soil_Type8                          581012 non-null  int64\n",
            " 19  Soil_Type9                          581012 non-null  int64\n",
            " 20  Soil_Type10                         581012 non-null  int64\n",
            " 21  Soil_Type11                         581012 non-null  int64\n",
            " 22  Soil_Type12                         581012 non-null  int64\n",
            " 23  Soil_Type13                         581012 non-null  int64\n",
            " 24  Soil_Type14                         581012 non-null  int64\n",
            " 25  Soil_Type15                         581012 non-null  int64\n",
            " 26  Soil_Type16                         581012 non-null  int64\n",
            " 27  Soil_Type17                         581012 non-null  int64\n",
            " 28  Soil_Type18                         581012 non-null  int64\n",
            " 29  Soil_Type19                         581012 non-null  int64\n",
            " 30  Soil_Type20                         581012 non-null  int64\n",
            " 31  Soil_Type21                         581012 non-null  int64\n",
            " 32  Soil_Type22                         581012 non-null  int64\n",
            " 33  Soil_Type23                         581012 non-null  int64\n",
            " 34  Soil_Type24                         581012 non-null  int64\n",
            " 35  Soil_Type25                         581012 non-null  int64\n",
            " 36  Soil_Type26                         581012 non-null  int64\n",
            " 37  Soil_Type27                         581012 non-null  int64\n",
            " 38  Soil_Type28                         581012 non-null  int64\n",
            " 39  Soil_Type29                         581012 non-null  int64\n",
            " 40  Soil_Type30                         581012 non-null  int64\n",
            " 41  Soil_Type31                         581012 non-null  int64\n",
            " 42  Soil_Type32                         581012 non-null  int64\n",
            " 43  Soil_Type33                         581012 non-null  int64\n",
            " 44  Soil_Type34                         581012 non-null  int64\n",
            " 45  Soil_Type35                         581012 non-null  int64\n",
            " 46  Soil_Type36                         581012 non-null  int64\n",
            " 47  Soil_Type37                         581012 non-null  int64\n",
            " 48  Soil_Type38                         581012 non-null  int64\n",
            " 49  Soil_Type39                         581012 non-null  int64\n",
            " 50  Soil_Type40                         581012 non-null  int64\n",
            " 51  Wilderness_Area2                    581012 non-null  int64\n",
            " 52  Wilderness_Area3                    581012 non-null  int64\n",
            " 53  Wilderness_Area4                    581012 non-null  int64\n",
            " 54  Cover_Type                          581012 non-null  int64\n",
            "dtypes: int64(55)\n",
            "memory usage: 243.8 MB\n"
          ]
        }
      ]
    },
    {
      "cell_type": "code",
      "source": [
        "df.describe()"
      ],
      "metadata": {
        "colab": {
          "base_uri": "https://localhost:8080/",
          "height": 350
        },
        "id": "ZU8CzARGRu0C",
        "outputId": "c51c3a39-80ac-42ff-f36e-5cc902256125"
      },
      "id": "ZU8CzARGRu0C",
      "execution_count": null,
      "outputs": [
        {
          "output_type": "execute_result",
          "data": {
            "text/plain": [
              "           Elevation         Aspect          Slope  \\\n",
              "count  581012.000000  581012.000000  581012.000000   \n",
              "mean     2959.365301     155.656807      14.103704   \n",
              "std       279.984734     111.913721       7.488242   \n",
              "min      1859.000000       0.000000       0.000000   \n",
              "25%      2809.000000      58.000000       9.000000   \n",
              "50%      2996.000000     127.000000      13.000000   \n",
              "75%      3163.000000     260.000000      18.000000   \n",
              "max      3858.000000     360.000000      66.000000   \n",
              "\n",
              "       Horizontal_Distance_To_Hydrology  Vertical_Distance_To_Hydrology  \\\n",
              "count                     581012.000000                   581012.000000   \n",
              "mean                         269.428217                       46.418855   \n",
              "std                          212.549356                       58.295232   \n",
              "min                            0.000000                     -173.000000   \n",
              "25%                          108.000000                        7.000000   \n",
              "50%                          218.000000                       30.000000   \n",
              "75%                          384.000000                       69.000000   \n",
              "max                         1397.000000                      601.000000   \n",
              "\n",
              "       Horizontal_Distance_To_Roadways  Hillshade_9am  Hillshade_Noon  \\\n",
              "count                    581012.000000  581012.000000   581012.000000   \n",
              "mean                       2350.146611     212.146049      223.318716   \n",
              "std                        1559.254870      26.769889       19.768697   \n",
              "min                           0.000000       0.000000        0.000000   \n",
              "25%                        1106.000000     198.000000      213.000000   \n",
              "50%                        1997.000000     218.000000      226.000000   \n",
              "75%                        3328.000000     231.000000      237.000000   \n",
              "max                        7117.000000     254.000000      254.000000   \n",
              "\n",
              "       Hillshade_3pm  Horizontal_Distance_To_Fire_Points  ...    Soil_Type35  \\\n",
              "count  581012.000000                       581012.000000  ...  581012.000000   \n",
              "mean      142.528263                         1980.291226  ...       0.003255   \n",
              "std        38.274529                         1324.195210  ...       0.056957   \n",
              "min         0.000000                            0.000000  ...       0.000000   \n",
              "25%       119.000000                         1024.000000  ...       0.000000   \n",
              "50%       143.000000                         1710.000000  ...       0.000000   \n",
              "75%       168.000000                         2550.000000  ...       0.000000   \n",
              "max       254.000000                         7173.000000  ...       1.000000   \n",
              "\n",
              "         Soil_Type36    Soil_Type37    Soil_Type38    Soil_Type39  \\\n",
              "count  581012.000000  581012.000000  581012.000000  581012.000000   \n",
              "mean        0.000205       0.000513       0.026803       0.023762   \n",
              "std         0.014310       0.022641       0.161508       0.152307   \n",
              "min         0.000000       0.000000       0.000000       0.000000   \n",
              "25%         0.000000       0.000000       0.000000       0.000000   \n",
              "50%         0.000000       0.000000       0.000000       0.000000   \n",
              "75%         0.000000       0.000000       0.000000       0.000000   \n",
              "max         1.000000       1.000000       1.000000       1.000000   \n",
              "\n",
              "         Soil_Type40  Wilderness_Area2  Wilderness_Area3  Wilderness_Area4  \\\n",
              "count  581012.000000     581012.000000     581012.000000     581012.000000   \n",
              "mean        0.015060          0.051434          0.436074          0.063627   \n",
              "std         0.121791          0.220882          0.495897          0.244087   \n",
              "min         0.000000          0.000000          0.000000          0.000000   \n",
              "25%         0.000000          0.000000          0.000000          0.000000   \n",
              "50%         0.000000          0.000000          0.000000          0.000000   \n",
              "75%         0.000000          0.000000          1.000000          0.000000   \n",
              "max         1.000000          1.000000          1.000000          1.000000   \n",
              "\n",
              "          Cover_Type  \n",
              "count  581012.000000  \n",
              "mean        2.051471  \n",
              "std         1.396504  \n",
              "min         1.000000  \n",
              "25%         1.000000  \n",
              "50%         2.000000  \n",
              "75%         2.000000  \n",
              "max         7.000000  \n",
              "\n",
              "[8 rows x 55 columns]"
            ],
            "text/html": [
              "\n",
              "  <div id=\"df-cb2b7d6f-9625-408e-bab8-2ce8832a3520\" class=\"colab-df-container\">\n",
              "    <div>\n",
              "<style scoped>\n",
              "    .dataframe tbody tr th:only-of-type {\n",
              "        vertical-align: middle;\n",
              "    }\n",
              "\n",
              "    .dataframe tbody tr th {\n",
              "        vertical-align: top;\n",
              "    }\n",
              "\n",
              "    .dataframe thead th {\n",
              "        text-align: right;\n",
              "    }\n",
              "</style>\n",
              "<table border=\"1\" class=\"dataframe\">\n",
              "  <thead>\n",
              "    <tr style=\"text-align: right;\">\n",
              "      <th></th>\n",
              "      <th>Elevation</th>\n",
              "      <th>Aspect</th>\n",
              "      <th>Slope</th>\n",
              "      <th>Horizontal_Distance_To_Hydrology</th>\n",
              "      <th>Vertical_Distance_To_Hydrology</th>\n",
              "      <th>Horizontal_Distance_To_Roadways</th>\n",
              "      <th>Hillshade_9am</th>\n",
              "      <th>Hillshade_Noon</th>\n",
              "      <th>Hillshade_3pm</th>\n",
              "      <th>Horizontal_Distance_To_Fire_Points</th>\n",
              "      <th>...</th>\n",
              "      <th>Soil_Type35</th>\n",
              "      <th>Soil_Type36</th>\n",
              "      <th>Soil_Type37</th>\n",
              "      <th>Soil_Type38</th>\n",
              "      <th>Soil_Type39</th>\n",
              "      <th>Soil_Type40</th>\n",
              "      <th>Wilderness_Area2</th>\n",
              "      <th>Wilderness_Area3</th>\n",
              "      <th>Wilderness_Area4</th>\n",
              "      <th>Cover_Type</th>\n",
              "    </tr>\n",
              "  </thead>\n",
              "  <tbody>\n",
              "    <tr>\n",
              "      <th>count</th>\n",
              "      <td>581012.000000</td>\n",
              "      <td>581012.000000</td>\n",
              "      <td>581012.000000</td>\n",
              "      <td>581012.000000</td>\n",
              "      <td>581012.000000</td>\n",
              "      <td>581012.000000</td>\n",
              "      <td>581012.000000</td>\n",
              "      <td>581012.000000</td>\n",
              "      <td>581012.000000</td>\n",
              "      <td>581012.000000</td>\n",
              "      <td>...</td>\n",
              "      <td>581012.000000</td>\n",
              "      <td>581012.000000</td>\n",
              "      <td>581012.000000</td>\n",
              "      <td>581012.000000</td>\n",
              "      <td>581012.000000</td>\n",
              "      <td>581012.000000</td>\n",
              "      <td>581012.000000</td>\n",
              "      <td>581012.000000</td>\n",
              "      <td>581012.000000</td>\n",
              "      <td>581012.000000</td>\n",
              "    </tr>\n",
              "    <tr>\n",
              "      <th>mean</th>\n",
              "      <td>2959.365301</td>\n",
              "      <td>155.656807</td>\n",
              "      <td>14.103704</td>\n",
              "      <td>269.428217</td>\n",
              "      <td>46.418855</td>\n",
              "      <td>2350.146611</td>\n",
              "      <td>212.146049</td>\n",
              "      <td>223.318716</td>\n",
              "      <td>142.528263</td>\n",
              "      <td>1980.291226</td>\n",
              "      <td>...</td>\n",
              "      <td>0.003255</td>\n",
              "      <td>0.000205</td>\n",
              "      <td>0.000513</td>\n",
              "      <td>0.026803</td>\n",
              "      <td>0.023762</td>\n",
              "      <td>0.015060</td>\n",
              "      <td>0.051434</td>\n",
              "      <td>0.436074</td>\n",
              "      <td>0.063627</td>\n",
              "      <td>2.051471</td>\n",
              "    </tr>\n",
              "    <tr>\n",
              "      <th>std</th>\n",
              "      <td>279.984734</td>\n",
              "      <td>111.913721</td>\n",
              "      <td>7.488242</td>\n",
              "      <td>212.549356</td>\n",
              "      <td>58.295232</td>\n",
              "      <td>1559.254870</td>\n",
              "      <td>26.769889</td>\n",
              "      <td>19.768697</td>\n",
              "      <td>38.274529</td>\n",
              "      <td>1324.195210</td>\n",
              "      <td>...</td>\n",
              "      <td>0.056957</td>\n",
              "      <td>0.014310</td>\n",
              "      <td>0.022641</td>\n",
              "      <td>0.161508</td>\n",
              "      <td>0.152307</td>\n",
              "      <td>0.121791</td>\n",
              "      <td>0.220882</td>\n",
              "      <td>0.495897</td>\n",
              "      <td>0.244087</td>\n",
              "      <td>1.396504</td>\n",
              "    </tr>\n",
              "    <tr>\n",
              "      <th>min</th>\n",
              "      <td>1859.000000</td>\n",
              "      <td>0.000000</td>\n",
              "      <td>0.000000</td>\n",
              "      <td>0.000000</td>\n",
              "      <td>-173.000000</td>\n",
              "      <td>0.000000</td>\n",
              "      <td>0.000000</td>\n",
              "      <td>0.000000</td>\n",
              "      <td>0.000000</td>\n",
              "      <td>0.000000</td>\n",
              "      <td>...</td>\n",
              "      <td>0.000000</td>\n",
              "      <td>0.000000</td>\n",
              "      <td>0.000000</td>\n",
              "      <td>0.000000</td>\n",
              "      <td>0.000000</td>\n",
              "      <td>0.000000</td>\n",
              "      <td>0.000000</td>\n",
              "      <td>0.000000</td>\n",
              "      <td>0.000000</td>\n",
              "      <td>1.000000</td>\n",
              "    </tr>\n",
              "    <tr>\n",
              "      <th>25%</th>\n",
              "      <td>2809.000000</td>\n",
              "      <td>58.000000</td>\n",
              "      <td>9.000000</td>\n",
              "      <td>108.000000</td>\n",
              "      <td>7.000000</td>\n",
              "      <td>1106.000000</td>\n",
              "      <td>198.000000</td>\n",
              "      <td>213.000000</td>\n",
              "      <td>119.000000</td>\n",
              "      <td>1024.000000</td>\n",
              "      <td>...</td>\n",
              "      <td>0.000000</td>\n",
              "      <td>0.000000</td>\n",
              "      <td>0.000000</td>\n",
              "      <td>0.000000</td>\n",
              "      <td>0.000000</td>\n",
              "      <td>0.000000</td>\n",
              "      <td>0.000000</td>\n",
              "      <td>0.000000</td>\n",
              "      <td>0.000000</td>\n",
              "      <td>1.000000</td>\n",
              "    </tr>\n",
              "    <tr>\n",
              "      <th>50%</th>\n",
              "      <td>2996.000000</td>\n",
              "      <td>127.000000</td>\n",
              "      <td>13.000000</td>\n",
              "      <td>218.000000</td>\n",
              "      <td>30.000000</td>\n",
              "      <td>1997.000000</td>\n",
              "      <td>218.000000</td>\n",
              "      <td>226.000000</td>\n",
              "      <td>143.000000</td>\n",
              "      <td>1710.000000</td>\n",
              "      <td>...</td>\n",
              "      <td>0.000000</td>\n",
              "      <td>0.000000</td>\n",
              "      <td>0.000000</td>\n",
              "      <td>0.000000</td>\n",
              "      <td>0.000000</td>\n",
              "      <td>0.000000</td>\n",
              "      <td>0.000000</td>\n",
              "      <td>0.000000</td>\n",
              "      <td>0.000000</td>\n",
              "      <td>2.000000</td>\n",
              "    </tr>\n",
              "    <tr>\n",
              "      <th>75%</th>\n",
              "      <td>3163.000000</td>\n",
              "      <td>260.000000</td>\n",
              "      <td>18.000000</td>\n",
              "      <td>384.000000</td>\n",
              "      <td>69.000000</td>\n",
              "      <td>3328.000000</td>\n",
              "      <td>231.000000</td>\n",
              "      <td>237.000000</td>\n",
              "      <td>168.000000</td>\n",
              "      <td>2550.000000</td>\n",
              "      <td>...</td>\n",
              "      <td>0.000000</td>\n",
              "      <td>0.000000</td>\n",
              "      <td>0.000000</td>\n",
              "      <td>0.000000</td>\n",
              "      <td>0.000000</td>\n",
              "      <td>0.000000</td>\n",
              "      <td>0.000000</td>\n",
              "      <td>1.000000</td>\n",
              "      <td>0.000000</td>\n",
              "      <td>2.000000</td>\n",
              "    </tr>\n",
              "    <tr>\n",
              "      <th>max</th>\n",
              "      <td>3858.000000</td>\n",
              "      <td>360.000000</td>\n",
              "      <td>66.000000</td>\n",
              "      <td>1397.000000</td>\n",
              "      <td>601.000000</td>\n",
              "      <td>7117.000000</td>\n",
              "      <td>254.000000</td>\n",
              "      <td>254.000000</td>\n",
              "      <td>254.000000</td>\n",
              "      <td>7173.000000</td>\n",
              "      <td>...</td>\n",
              "      <td>1.000000</td>\n",
              "      <td>1.000000</td>\n",
              "      <td>1.000000</td>\n",
              "      <td>1.000000</td>\n",
              "      <td>1.000000</td>\n",
              "      <td>1.000000</td>\n",
              "      <td>1.000000</td>\n",
              "      <td>1.000000</td>\n",
              "      <td>1.000000</td>\n",
              "      <td>7.000000</td>\n",
              "    </tr>\n",
              "  </tbody>\n",
              "</table>\n",
              "<p>8 rows × 55 columns</p>\n",
              "</div>\n",
              "    <div class=\"colab-df-buttons\">\n",
              "\n",
              "  <div class=\"colab-df-container\">\n",
              "    <button class=\"colab-df-convert\" onclick=\"convertToInteractive('df-cb2b7d6f-9625-408e-bab8-2ce8832a3520')\"\n",
              "            title=\"Convert this dataframe to an interactive table.\"\n",
              "            style=\"display:none;\">\n",
              "\n",
              "  <svg xmlns=\"http://www.w3.org/2000/svg\" height=\"24px\" viewBox=\"0 -960 960 960\">\n",
              "    <path d=\"M120-120v-720h720v720H120Zm60-500h600v-160H180v160Zm220 220h160v-160H400v160Zm0 220h160v-160H400v160ZM180-400h160v-160H180v160Zm440 0h160v-160H620v160ZM180-180h160v-160H180v160Zm440 0h160v-160H620v160Z\"/>\n",
              "  </svg>\n",
              "    </button>\n",
              "\n",
              "  <style>\n",
              "    .colab-df-container {\n",
              "      display:flex;\n",
              "      gap: 12px;\n",
              "    }\n",
              "\n",
              "    .colab-df-convert {\n",
              "      background-color: #E8F0FE;\n",
              "      border: none;\n",
              "      border-radius: 50%;\n",
              "      cursor: pointer;\n",
              "      display: none;\n",
              "      fill: #1967D2;\n",
              "      height: 32px;\n",
              "      padding: 0 0 0 0;\n",
              "      width: 32px;\n",
              "    }\n",
              "\n",
              "    .colab-df-convert:hover {\n",
              "      background-color: #E2EBFA;\n",
              "      box-shadow: 0px 1px 2px rgba(60, 64, 67, 0.3), 0px 1px 3px 1px rgba(60, 64, 67, 0.15);\n",
              "      fill: #174EA6;\n",
              "    }\n",
              "\n",
              "    .colab-df-buttons div {\n",
              "      margin-bottom: 4px;\n",
              "    }\n",
              "\n",
              "    [theme=dark] .colab-df-convert {\n",
              "      background-color: #3B4455;\n",
              "      fill: #D2E3FC;\n",
              "    }\n",
              "\n",
              "    [theme=dark] .colab-df-convert:hover {\n",
              "      background-color: #434B5C;\n",
              "      box-shadow: 0px 1px 3px 1px rgba(0, 0, 0, 0.15);\n",
              "      filter: drop-shadow(0px 1px 2px rgba(0, 0, 0, 0.3));\n",
              "      fill: #FFFFFF;\n",
              "    }\n",
              "  </style>\n",
              "\n",
              "    <script>\n",
              "      const buttonEl =\n",
              "        document.querySelector('#df-cb2b7d6f-9625-408e-bab8-2ce8832a3520 button.colab-df-convert');\n",
              "      buttonEl.style.display =\n",
              "        google.colab.kernel.accessAllowed ? 'block' : 'none';\n",
              "\n",
              "      async function convertToInteractive(key) {\n",
              "        const element = document.querySelector('#df-cb2b7d6f-9625-408e-bab8-2ce8832a3520');\n",
              "        const dataTable =\n",
              "          await google.colab.kernel.invokeFunction('convertToInteractive',\n",
              "                                                    [key], {});\n",
              "        if (!dataTable) return;\n",
              "\n",
              "        const docLinkHtml = 'Like what you see? Visit the ' +\n",
              "          '<a target=\"_blank\" href=https://colab.research.google.com/notebooks/data_table.ipynb>data table notebook</a>'\n",
              "          + ' to learn more about interactive tables.';\n",
              "        element.innerHTML = '';\n",
              "        dataTable['output_type'] = 'display_data';\n",
              "        await google.colab.output.renderOutput(dataTable, element);\n",
              "        const docLink = document.createElement('div');\n",
              "        docLink.innerHTML = docLinkHtml;\n",
              "        element.appendChild(docLink);\n",
              "      }\n",
              "    </script>\n",
              "  </div>\n",
              "\n",
              "\n",
              "<div id=\"df-a1d500c9-c5d8-4e6a-8bea-662a728b7157\">\n",
              "  <button class=\"colab-df-quickchart\" onclick=\"quickchart('df-a1d500c9-c5d8-4e6a-8bea-662a728b7157')\"\n",
              "            title=\"Suggest charts\"\n",
              "            style=\"display:none;\">\n",
              "\n",
              "<svg xmlns=\"http://www.w3.org/2000/svg\" height=\"24px\"viewBox=\"0 0 24 24\"\n",
              "     width=\"24px\">\n",
              "    <g>\n",
              "        <path d=\"M19 3H5c-1.1 0-2 .9-2 2v14c0 1.1.9 2 2 2h14c1.1 0 2-.9 2-2V5c0-1.1-.9-2-2-2zM9 17H7v-7h2v7zm4 0h-2V7h2v10zm4 0h-2v-4h2v4z\"/>\n",
              "    </g>\n",
              "</svg>\n",
              "  </button>\n",
              "\n",
              "<style>\n",
              "  .colab-df-quickchart {\n",
              "      --bg-color: #E8F0FE;\n",
              "      --fill-color: #1967D2;\n",
              "      --hover-bg-color: #E2EBFA;\n",
              "      --hover-fill-color: #174EA6;\n",
              "      --disabled-fill-color: #AAA;\n",
              "      --disabled-bg-color: #DDD;\n",
              "  }\n",
              "\n",
              "  [theme=dark] .colab-df-quickchart {\n",
              "      --bg-color: #3B4455;\n",
              "      --fill-color: #D2E3FC;\n",
              "      --hover-bg-color: #434B5C;\n",
              "      --hover-fill-color: #FFFFFF;\n",
              "      --disabled-bg-color: #3B4455;\n",
              "      --disabled-fill-color: #666;\n",
              "  }\n",
              "\n",
              "  .colab-df-quickchart {\n",
              "    background-color: var(--bg-color);\n",
              "    border: none;\n",
              "    border-radius: 50%;\n",
              "    cursor: pointer;\n",
              "    display: none;\n",
              "    fill: var(--fill-color);\n",
              "    height: 32px;\n",
              "    padding: 0;\n",
              "    width: 32px;\n",
              "  }\n",
              "\n",
              "  .colab-df-quickchart:hover {\n",
              "    background-color: var(--hover-bg-color);\n",
              "    box-shadow: 0 1px 2px rgba(60, 64, 67, 0.3), 0 1px 3px 1px rgba(60, 64, 67, 0.15);\n",
              "    fill: var(--button-hover-fill-color);\n",
              "  }\n",
              "\n",
              "  .colab-df-quickchart-complete:disabled,\n",
              "  .colab-df-quickchart-complete:disabled:hover {\n",
              "    background-color: var(--disabled-bg-color);\n",
              "    fill: var(--disabled-fill-color);\n",
              "    box-shadow: none;\n",
              "  }\n",
              "\n",
              "  .colab-df-spinner {\n",
              "    border: 2px solid var(--fill-color);\n",
              "    border-color: transparent;\n",
              "    border-bottom-color: var(--fill-color);\n",
              "    animation:\n",
              "      spin 1s steps(1) infinite;\n",
              "  }\n",
              "\n",
              "  @keyframes spin {\n",
              "    0% {\n",
              "      border-color: transparent;\n",
              "      border-bottom-color: var(--fill-color);\n",
              "      border-left-color: var(--fill-color);\n",
              "    }\n",
              "    20% {\n",
              "      border-color: transparent;\n",
              "      border-left-color: var(--fill-color);\n",
              "      border-top-color: var(--fill-color);\n",
              "    }\n",
              "    30% {\n",
              "      border-color: transparent;\n",
              "      border-left-color: var(--fill-color);\n",
              "      border-top-color: var(--fill-color);\n",
              "      border-right-color: var(--fill-color);\n",
              "    }\n",
              "    40% {\n",
              "      border-color: transparent;\n",
              "      border-right-color: var(--fill-color);\n",
              "      border-top-color: var(--fill-color);\n",
              "    }\n",
              "    60% {\n",
              "      border-color: transparent;\n",
              "      border-right-color: var(--fill-color);\n",
              "    }\n",
              "    80% {\n",
              "      border-color: transparent;\n",
              "      border-right-color: var(--fill-color);\n",
              "      border-bottom-color: var(--fill-color);\n",
              "    }\n",
              "    90% {\n",
              "      border-color: transparent;\n",
              "      border-bottom-color: var(--fill-color);\n",
              "    }\n",
              "  }\n",
              "</style>\n",
              "\n",
              "  <script>\n",
              "    async function quickchart(key) {\n",
              "      const quickchartButtonEl =\n",
              "        document.querySelector('#' + key + ' button');\n",
              "      quickchartButtonEl.disabled = true;  // To prevent multiple clicks.\n",
              "      quickchartButtonEl.classList.add('colab-df-spinner');\n",
              "      try {\n",
              "        const charts = await google.colab.kernel.invokeFunction(\n",
              "            'suggestCharts', [key], {});\n",
              "      } catch (error) {\n",
              "        console.error('Error during call to suggestCharts:', error);\n",
              "      }\n",
              "      quickchartButtonEl.classList.remove('colab-df-spinner');\n",
              "      quickchartButtonEl.classList.add('colab-df-quickchart-complete');\n",
              "    }\n",
              "    (() => {\n",
              "      let quickchartButtonEl =\n",
              "        document.querySelector('#df-a1d500c9-c5d8-4e6a-8bea-662a728b7157 button');\n",
              "      quickchartButtonEl.style.display =\n",
              "        google.colab.kernel.accessAllowed ? 'block' : 'none';\n",
              "    })();\n",
              "  </script>\n",
              "</div>\n",
              "\n",
              "    </div>\n",
              "  </div>\n"
            ],
            "application/vnd.google.colaboratory.intrinsic+json": {
              "type": "dataframe"
            }
          },
          "metadata": {},
          "execution_count": 21
        }
      ]
    },
    {
      "cell_type": "code",
      "source": [
        "df.shape"
      ],
      "metadata": {
        "colab": {
          "base_uri": "https://localhost:8080/"
        },
        "id": "9dQlMbdeRyjw",
        "outputId": "70ae4f89-f861-47ea-ac1c-3bdc6284fa61"
      },
      "id": "9dQlMbdeRyjw",
      "execution_count": null,
      "outputs": [
        {
          "output_type": "execute_result",
          "data": {
            "text/plain": [
              "(581012, 55)"
            ]
          },
          "metadata": {},
          "execution_count": 22
        }
      ]
    },
    {
      "cell_type": "code",
      "source": [
        "df.columns"
      ],
      "metadata": {
        "colab": {
          "base_uri": "https://localhost:8080/"
        },
        "id": "UiWo_BlmSQBa",
        "outputId": "7844aec8-7af1-4be8-a46b-4378ab6e0c90"
      },
      "id": "UiWo_BlmSQBa",
      "execution_count": null,
      "outputs": [
        {
          "output_type": "execute_result",
          "data": {
            "text/plain": [
              "Index(['Elevation', 'Aspect', 'Slope', 'Horizontal_Distance_To_Hydrology',\n",
              "       'Vertical_Distance_To_Hydrology', 'Horizontal_Distance_To_Roadways',\n",
              "       'Hillshade_9am', 'Hillshade_Noon', 'Hillshade_3pm',\n",
              "       'Horizontal_Distance_To_Fire_Points', 'Wilderness_Area1', 'Soil_Type1',\n",
              "       'Soil_Type2', 'Soil_Type3', 'Soil_Type4', 'Soil_Type5', 'Soil_Type6',\n",
              "       'Soil_Type7', 'Soil_Type8', 'Soil_Type9', 'Soil_Type10', 'Soil_Type11',\n",
              "       'Soil_Type12', 'Soil_Type13', 'Soil_Type14', 'Soil_Type15',\n",
              "       'Soil_Type16', 'Soil_Type17', 'Soil_Type18', 'Soil_Type19',\n",
              "       'Soil_Type20', 'Soil_Type21', 'Soil_Type22', 'Soil_Type23',\n",
              "       'Soil_Type24', 'Soil_Type25', 'Soil_Type26', 'Soil_Type27',\n",
              "       'Soil_Type28', 'Soil_Type29', 'Soil_Type30', 'Soil_Type31',\n",
              "       'Soil_Type32', 'Soil_Type33', 'Soil_Type34', 'Soil_Type35',\n",
              "       'Soil_Type36', 'Soil_Type37', 'Soil_Type38', 'Soil_Type39',\n",
              "       'Soil_Type40', 'Wilderness_Area2', 'Wilderness_Area3',\n",
              "       'Wilderness_Area4', 'Cover_Type'],\n",
              "      dtype='object')"
            ]
          },
          "metadata": {},
          "execution_count": 23
        }
      ]
    },
    {
      "cell_type": "markdown",
      "id": "2b5650ab",
      "metadata": {
        "id": "2b5650ab"
      },
      "source": [
        "¿Cuántas instancias de datos tiene el dataset?"
      ]
    },
    {
      "cell_type": "code",
      "execution_count": null,
      "id": "c21b23d3",
      "metadata": {
        "id": "c21b23d3",
        "colab": {
          "base_uri": "https://localhost:8080/"
        },
        "outputId": "664d4e52-b322-48a2-941a-0e7692513e84"
      },
      "outputs": [
        {
          "output_type": "stream",
          "name": "stdout",
          "text": [
            "El dataset tiene 581012 instancias\n"
          ]
        }
      ],
      "source": [
        "## PON AQUÍ TU CÓDIGO\n",
        "print(f\"El dataset tiene {len(df)} instancias\")"
      ]
    },
    {
      "cell_type": "markdown",
      "id": "1869d474",
      "metadata": {
        "id": "1869d474"
      },
      "source": [
        "El dataset contiene 581.012 instancias."
      ]
    },
    {
      "cell_type": "markdown",
      "id": "26e1d966",
      "metadata": {
        "id": "26e1d966"
      },
      "source": [
        "¿Cuántas variables continuas hay en el dataset?"
      ]
    },
    {
      "cell_type": "code",
      "execution_count": null,
      "id": "9510e492",
      "metadata": {
        "id": "9510e492",
        "colab": {
          "base_uri": "https://localhost:8080/"
        },
        "outputId": "41c6a130-4985-47d5-a302-caf779abc1a6"
      },
      "outputs": [
        {
          "output_type": "stream",
          "name": "stdout",
          "text": [
            "El dataset tiene 55 variables continuas\n"
          ]
        }
      ],
      "source": [
        "## PON AQUÍ TU CÓDIGO\n",
        "columnas_continuas = df.select_dtypes(include=['float64', 'int64']).columns\n",
        "print(f\"El dataset tiene {len(columnas_continuas)} variables continuas\")"
      ]
    },
    {
      "cell_type": "markdown",
      "id": "29b8ec58",
      "metadata": {
        "id": "29b8ec58"
      },
      "source": [
        " Todas las variables del dataset son continuas."
      ]
    },
    {
      "cell_type": "code",
      "source": [
        "columnas_categoricas = df.select_dtypes(include=['object']).columns\n",
        "print(f\"El dataset tiene {len(columnas_categoricas)} variables categoricas\")"
      ],
      "metadata": {
        "colab": {
          "base_uri": "https://localhost:8080/"
        },
        "id": "e3LB3GSbTBaT",
        "outputId": "b4158ae7-7311-4d55-9cad-5a84826ece7b"
      },
      "id": "e3LB3GSbTBaT",
      "execution_count": null,
      "outputs": [
        {
          "output_type": "stream",
          "name": "stdout",
          "text": [
            "El dataset tiene 0 variables categoricas\n"
          ]
        }
      ]
    },
    {
      "cell_type": "markdown",
      "id": "12c2a9c8",
      "metadata": {
        "id": "12c2a9c8"
      },
      "source": [
        "¿Cuántas variables categóricas hay en el dataset? Indica las categorías."
      ]
    },
    {
      "cell_type": "markdown",
      "id": "22955251",
      "metadata": {
        "id": "22955251"
      },
      "source": [
        "No parece haber variables categóricas."
      ]
    },
    {
      "cell_type": "markdown",
      "id": "9b259f7a",
      "metadata": {
        "id": "9b259f7a"
      },
      "source": [
        "¿Cómo es la distribución de etiquetas de clase en el dataset? Con estos datos, ¿podríamos decir que el dataset está balanceado?"
      ]
    },
    {
      "cell_type": "code",
      "source": [
        "## PON AQUÍ TU CÓDIGO\n",
        "df['Cover_Type'].value_counts().plot(kind='pie',autopct='%.2f',)\n",
        "plt.show()"
      ],
      "metadata": {
        "colab": {
          "base_uri": "https://localhost:8080/",
          "height": 406
        },
        "id": "oAeSwmP2crR5",
        "outputId": "6462f3ca-ac24-4b10-ba79-d7ca9c599714"
      },
      "id": "oAeSwmP2crR5",
      "execution_count": null,
      "outputs": [
        {
          "output_type": "display_data",
          "data": {
            "text/plain": [
              "<Figure size 640x480 with 1 Axes>"
            ],
            "image/png": "[encoded data removed]"
          },
          "metadata": {}
        }
      ]
    },
    {
      "cell_type": "markdown",
      "id": "f0b45007",
      "metadata": {
        "id": "f0b45007"
      },
      "source": [
        "Al observar el gráfico de tarta se aprecia que las clases 1 y 2 de Cover_Type tienen el mayor número de instancias por lo que el dataset esta desbalanceado."
      ]
    },
    {
      "cell_type": "markdown",
      "id": "f5aa4dd7",
      "metadata": {
        "id": "f5aa4dd7"
      },
      "source": [
        "¿Existen valores nulos o perdidos en el dataset?"
      ]
    },
    {
      "cell_type": "code",
      "execution_count": null,
      "id": "39995616",
      "metadata": {
        "id": "39995616",
        "colab": {
          "base_uri": "https://localhost:8080/",
          "height": 1000
        },
        "outputId": "10169a46-4069-4a04-8253-dbb716081977"
      },
      "outputs": [
        {
          "output_type": "execute_result",
          "data": {
            "text/plain": [
              "Elevation                             0\n",
              "Aspect                                0\n",
              "Slope                                 0\n",
              "Horizontal_Distance_To_Hydrology      0\n",
              "Vertical_Distance_To_Hydrology        0\n",
              "Horizontal_Distance_To_Roadways       0\n",
              "Hillshade_9am                         0\n",
              "Hillshade_Noon                        0\n",
              "Hillshade_3pm                         0\n",
              "Horizontal_Distance_To_Fire_Points    0\n",
              "Wilderness_Area1                      0\n",
              "Soil_Type1                            0\n",
              "Soil_Type2                            0\n",
              "Soil_Type3                            0\n",
              "Soil_Type4                            0\n",
              "Soil_Type5                            0\n",
              "Soil_Type6                            0\n",
              "Soil_Type7                            0\n",
              "Soil_Type8                            0\n",
              "Soil_Type9                            0\n",
              "Soil_Type10                           0\n",
              "Soil_Type11                           0\n",
              "Soil_Type12                           0\n",
              "Soil_Type13                           0\n",
              "Soil_Type14                           0\n",
              "Soil_Type15                           0\n",
              "Soil_Type16                           0\n",
              "Soil_Type17                           0\n",
              "Soil_Type18                           0\n",
              "Soil_Type19                           0\n",
              "Soil_Type20                           0\n",
              "Soil_Type21                           0\n",
              "Soil_Type22                           0\n",
              "Soil_Type23                           0\n",
              "Soil_Type24                           0\n",
              "Soil_Type25                           0\n",
              "Soil_Type26                           0\n",
              "Soil_Type27                           0\n",
              "Soil_Type28                           0\n",
              "Soil_Type29                           0\n",
              "Soil_Type30                           0\n",
              "Soil_Type31                           0\n",
              "Soil_Type32                           0\n",
              "Soil_Type33                           0\n",
              "Soil_Type34                           0\n",
              "Soil_Type35                           0\n",
              "Soil_Type36                           0\n",
              "Soil_Type37                           0\n",
              "Soil_Type38                           0\n",
              "Soil_Type39                           0\n",
              "Soil_Type40                           0\n",
              "Wilderness_Area2                      0\n",
              "Wilderness_Area3                      0\n",
              "Wilderness_Area4                      0\n",
              "Cover_Type                            0\n",
              "dtype: int64"
            ],
            "text/html": [
              "<div>\n",
              "<style scoped>\n",
              "    .dataframe tbody tr th:only-of-type {\n",
              "        vertical-align: middle;\n",
              "    }\n",
              "\n",
              "    .dataframe tbody tr th {\n",
              "        vertical-align: top;\n",
              "    }\n",
              "\n",
              "    .dataframe thead th {\n",
              "        text-align: right;\n",
              "    }\n",
              "</style>\n",
              "<table border=\"1\" class=\"dataframe\">\n",
              "  <thead>\n",
              "    <tr style=\"text-align: right;\">\n",
              "      <th></th>\n",
              "      <th>0</th>\n",
              "    </tr>\n",
              "  </thead>\n",
              "  <tbody>\n",
              "    <tr>\n",
              "      <th>Elevation</th>\n",
              "      <td>0</td>\n",
              "    </tr>\n",
              "    <tr>\n",
              "      <th>Aspect</th>\n",
              "      <td>0</td>\n",
              "    </tr>\n",
              "    <tr>\n",
              "      <th>Slope</th>\n",
              "      <td>0</td>\n",
              "    </tr>\n",
              "    <tr>\n",
              "      <th>Horizontal_Distance_To_Hydrology</th>\n",
              "      <td>0</td>\n",
              "    </tr>\n",
              "    <tr>\n",
              "      <th>Vertical_Distance_To_Hydrology</th>\n",
              "      <td>0</td>\n",
              "    </tr>\n",
              "    <tr>\n",
              "      <th>Horizontal_Distance_To_Roadways</th>\n",
              "      <td>0</td>\n",
              "    </tr>\n",
              "    <tr>\n",
              "      <th>Hillshade_9am</th>\n",
              "      <td>0</td>\n",
              "    </tr>\n",
              "    <tr>\n",
              "      <th>Hillshade_Noon</th>\n",
              "      <td>0</td>\n",
              "    </tr>\n",
              "    <tr>\n",
              "      <th>Hillshade_3pm</th>\n",
              "      <td>0</td>\n",
              "    </tr>\n",
              "    <tr>\n",
              "      <th>Horizontal_Distance_To_Fire_Points</th>\n",
              "      <td>0</td>\n",
              "    </tr>\n",
              "    <tr>\n",
              "      <th>Wilderness_Area1</th>\n",
              "      <td>0</td>\n",
              "    </tr>\n",
              "    <tr>\n",
              "      <th>Soil_Type1</th>\n",
              "      <td>0</td>\n",
              "    </tr>\n",
              "    <tr>\n",
              "      <th>Soil_Type2</th>\n",
              "      <td>0</td>\n",
              "    </tr>\n",
              "    <tr>\n",
              "      <th>Soil_Type3</th>\n",
              "      <td>0</td>\n",
              "    </tr>\n",
              "    <tr>\n",
              "      <th>Soil_Type4</th>\n",
              "      <td>0</td>\n",
              "    </tr>\n",
              "    <tr>\n",
              "      <th>Soil_Type5</th>\n",
              "      <td>0</td>\n",
              "    </tr>\n",
              "    <tr>\n",
              "      <th>Soil_Type6</th>\n",
              "      <td>0</td>\n",
              "    </tr>\n",
              "    <tr>\n",
              "      <th>Soil_Type7</th>\n",
              "      <td>0</td>\n",
              "    </tr>\n",
              "    <tr>\n",
              "      <th>Soil_Type8</th>\n",
              "      <td>0</td>\n",
              "    </tr>\n",
              "    <tr>\n",
              "      <th>Soil_Type9</th>\n",
              "      <td>0</td>\n",
              "    </tr>\n",
              "    <tr>\n",
              "      <th>Soil_Type10</th>\n",
              "      <td>0</td>\n",
              "    </tr>\n",
              "    <tr>\n",
              "      <th>Soil_Type11</th>\n",
              "      <td>0</td>\n",
              "    </tr>\n",
              "    <tr>\n",
              "      <th>Soil_Type12</th>\n",
              "      <td>0</td>\n",
              "    </tr>\n",
              "    <tr>\n",
              "      <th>Soil_Type13</th>\n",
              "      <td>0</td>\n",
              "    </tr>\n",
              "    <tr>\n",
              "      <th>Soil_Type14</th>\n",
              "      <td>0</td>\n",
              "    </tr>\n",
              "    <tr>\n",
              "      <th>Soil_Type15</th>\n",
              "      <td>0</td>\n",
              "    </tr>\n",
              "    <tr>\n",
              "      <th>Soil_Type16</th>\n",
              "      <td>0</td>\n",
              "    </tr>\n",
              "    <tr>\n",
              "      <th>Soil_Type17</th>\n",
              "      <td>0</td>\n",
              "    </tr>\n",
              "    <tr>\n",
              "      <th>Soil_Type18</th>\n",
              "      <td>0</td>\n",
              "    </tr>\n",
              "    <tr>\n",
              "      <th>Soil_Type19</th>\n",
              "      <td>0</td>\n",
              "    </tr>\n",
              "    <tr>\n",
              "      <th>Soil_Type20</th>\n",
              "      <td>0</td>\n",
              "    </tr>\n",
              "    <tr>\n",
              "      <th>Soil_Type21</th>\n",
              "      <td>0</td>\n",
              "    </tr>\n",
              "    <tr>\n",
              "      <th>Soil_Type22</th>\n",
              "      <td>0</td>\n",
              "    </tr>\n",
              "    <tr>\n",
              "      <th>Soil_Type23</th>\n",
              "      <td>0</td>\n",
              "    </tr>\n",
              "    <tr>\n",
              "      <th>Soil_Type24</th>\n",
              "      <td>0</td>\n",
              "    </tr>\n",
              "    <tr>\n",
              "      <th>Soil_Type25</th>\n",
              "      <td>0</td>\n",
              "    </tr>\n",
              "    <tr>\n",
              "      <th>Soil_Type26</th>\n",
              "      <td>0</td>\n",
              "    </tr>\n",
              "    <tr>\n",
              "      <th>Soil_Type27</th>\n",
              "      <td>0</td>\n",
              "    </tr>\n",
              "    <tr>\n",
              "      <th>Soil_Type28</th>\n",
              "      <td>0</td>\n",
              "    </tr>\n",
              "    <tr>\n",
              "      <th>Soil_Type29</th>\n",
              "      <td>0</td>\n",
              "    </tr>\n",
              "    <tr>\n",
              "      <th>Soil_Type30</th>\n",
              "      <td>0</td>\n",
              "    </tr>\n",
              "    <tr>\n",
              "      <th>Soil_Type31</th>\n",
              "      <td>0</td>\n",
              "    </tr>\n",
              "    <tr>\n",
              "      <th>Soil_Type32</th>\n",
              "      <td>0</td>\n",
              "    </tr>\n",
              "    <tr>\n",
              "      <th>Soil_Type33</th>\n",
              "      <td>0</td>\n",
              "    </tr>\n",
              "    <tr>\n",
              "      <th>Soil_Type34</th>\n",
              "      <td>0</td>\n",
              "    </tr>\n",
              "    <tr>\n",
              "      <th>Soil_Type35</th>\n",
              "      <td>0</td>\n",
              "    </tr>\n",
              "    <tr>\n",
              "      <th>Soil_Type36</th>\n",
              "      <td>0</td>\n",
              "    </tr>\n",
              "    <tr>\n",
              "      <th>Soil_Type37</th>\n",
              "      <td>0</td>\n",
              "    </tr>\n",
              "    <tr>\n",
              "      <th>Soil_Type38</th>\n",
              "      <td>0</td>\n",
              "    </tr>\n",
              "    <tr>\n",
              "      <th>Soil_Type39</th>\n",
              "      <td>0</td>\n",
              "    </tr>\n",
              "    <tr>\n",
              "      <th>Soil_Type40</th>\n",
              "      <td>0</td>\n",
              "    </tr>\n",
              "    <tr>\n",
              "      <th>Wilderness_Area2</th>\n",
              "      <td>0</td>\n",
              "    </tr>\n",
              "    <tr>\n",
              "      <th>Wilderness_Area3</th>\n",
              "      <td>0</td>\n",
              "    </tr>\n",
              "    <tr>\n",
              "      <th>Wilderness_Area4</th>\n",
              "      <td>0</td>\n",
              "    </tr>\n",
              "    <tr>\n",
              "      <th>Cover_Type</th>\n",
              "      <td>0</td>\n",
              "    </tr>\n",
              "  </tbody>\n",
              "</table>\n",
              "</div><br><label><b>dtype:</b> int64</label>"
            ]
          },
          "metadata": {},
          "execution_count": 28
        }
      ],
      "source": [
        "## PON AQUÍ TU CÓDIGO\n",
        "df.isnull().sum()"
      ]
    },
    {
      "cell_type": "markdown",
      "id": "150e0efd",
      "metadata": {
        "id": "150e0efd"
      },
      "source": [
        "El dataset no contiene valores nulos tal y como se indica en la documentación."
      ]
    },
    {
      "cell_type": "markdown",
      "id": "625ba0c3",
      "metadata": {
        "id": "625ba0c3"
      },
      "source": [
        "¿Existe alguna variable altamente correlacionada con la variable de clase?"
      ]
    },
    {
      "cell_type": "markdown",
      "id": "f2e38d4e",
      "metadata": {
        "id": "f2e38d4e"
      },
      "source": [
        "_Nota: Para responder a esto, como es muy dificil ver la matriz de correlaciones, recomendamos filtar aquellas correlaciones superiores al 0.80 con la variable de clase."
      ]
    },
    {
      "cell_type": "code",
      "execution_count": null,
      "id": "1d61da96",
      "metadata": {
        "id": "1d61da96",
        "colab": {
          "base_uri": "https://localhost:8080/"
        },
        "outputId": "c55e25b9-dd48-4000-bd87-e73f6303bed8"
      },
      "outputs": [
        {
          "output_type": "stream",
          "name": "stdout",
          "text": [
            "Cover_Type                            1.000000\n",
            "Wilderness_Area4                      0.323200\n",
            "Elevation                             0.269554\n",
            "Soil_Type10                           0.243876\n",
            "Wilderness_Area1                      0.203913\n",
            "Soil_Type38                           0.160170\n",
            "Soil_Type39                           0.155668\n",
            "Horizontal_Distance_To_Roadways       0.153450\n",
            "Slope                                 0.148285\n",
            "Soil_Type22                           0.141746\n",
            "Soil_Type23                           0.135055\n",
            "Soil_Type40                           0.128351\n",
            "Soil_Type29                           0.124933\n",
            "Soil_Type2                            0.118135\n",
            "Soil_Type6                            0.112958\n",
            "Horizontal_Distance_To_Fire_Points    0.108936\n",
            "Soil_Type4                            0.099672\n",
            "Hillshade_Noon                        0.096426\n",
            "Soil_Type1                            0.090828\n",
            "Soil_Type17                           0.090582\n",
            "Vertical_Distance_To_Hydrology        0.081664\n",
            "Soil_Type35                           0.080315\n",
            "Soil_Type37                           0.080271\n",
            "Soil_Type5                            0.077890\n",
            "Soil_Type32                           0.075562\n",
            "Soil_Type24                           0.068746\n",
            "Soil_Type3                            0.068064\n",
            "Wilderness_Area3                      0.066846\n",
            "Soil_Type14                           0.065562\n",
            "Soil_Type31                           0.065347\n",
            "Soil_Type33                           0.062502\n",
            "Hillshade_3pm                         0.048290\n",
            "Wilderness_Area2                      0.048059\n",
            "Soil_Type19                           0.036452\n",
            "Hillshade_9am                         0.035415\n",
            "Soil_Type11                           0.035379\n",
            "Soil_Type20                           0.028665\n",
            "Soil_Type21                           0.025400\n",
            "Soil_Type36                           0.025397\n",
            "Soil_Type13                           0.024404\n",
            "Soil_Type12                           0.023601\n",
            "Horizontal_Distance_To_Hydrology      0.020317\n",
            "Aspect                                0.017080\n",
            "Soil_Type27                           0.014407\n",
            "Soil_Type30                           0.010436\n",
            "Soil_Type16                           0.009844\n",
            "Soil_Type18                           0.007390\n",
            "Soil_Type25                           0.006449\n",
            "Soil_Type15                           0.006425\n",
            "Soil_Type9                            0.006110\n",
            "Soil_Type34                           0.004643\n",
            "Soil_Type8                            0.003667\n",
            "Soil_Type28                           0.001702\n",
            "Soil_Type7                            0.000496\n",
            "Soil_Type26                           0.000375\n",
            "Name: Cover_Type, dtype: float64\n"
          ]
        }
      ],
      "source": [
        "## PON AQUÍ TU CÓDIGO\n",
        "matriz_correlacion = df.corr()\n",
        "print(matriz_correlacion['Cover_Type'].abs().sort_values(ascending=False))"
      ]
    },
    {
      "cell_type": "markdown",
      "id": "88ed3c79",
      "metadata": {
        "id": "88ed3c79"
      },
      "source": [
        "¿Qué tres variables del dataset consideras que pueden influenciar más en la clasificación de los datos?¿Qué pruebas harías para comprobar tus hipótesis? Hazlas."
      ]
    },
    {
      "cell_type": "markdown",
      "id": "ff908697",
      "metadata": {
        "id": "ff908697"
      },
      "source": [
        "Según la matriz de correlación obtenida, las variables mas relacionadas con Cover_Type son 'Wilderness_Area4', 'Elevation' y 'Soil_Type10'.  "
      ]
    },
    {
      "cell_type": "code",
      "execution_count": null,
      "id": "e36f156a",
      "metadata": {
        "id": "e36f156a"
      },
      "outputs": [],
      "source": [
        "# Separamos los datos en los conjuntos de entrenamiento y test.\n",
        "from sklearn.model_selection import train_test_split\n",
        "\n",
        "X, y = df.drop('Cover_Type',axis=1),df['Cover_Type']\n",
        "\n",
        "X_train,X_test,y_train,y_test = train_test_split(X, y, test_size=0.2, random_state=42)"
      ]
    },
    {
      "cell_type": "markdown",
      "id": "253d38fb",
      "metadata": {
        "id": "253d38fb"
      },
      "source": [
        "### Clasificación"
      ]
    },
    {
      "cell_type": "markdown",
      "id": "18aa2ef3",
      "metadata": {
        "id": "18aa2ef3"
      },
      "source": [
        "**Random Forest**\n",
        "\n",
        "En esta parte de la actividad hay que utilizar la librería https://scikit-learn.org/stable/modules/generated/sklearn.ensemble.RandomForestClassifier.html para resolver el problema de clasificación.\n",
        "\n",
        "El algortimo de RF necesitar ajustar una serie de hiperparámetros para realizar las clasificaciones. La implementación de sklearn nos da mucha flexibilidad para nuestros modelos. En general, para los problemas más comunes de clasificación, nos tenemos que preocupar de los siguientes hiperparámetros:\n",
        "- n_estimators\n",
        "- criterion\n",
        "- max_depth\n",
        "- min_samples_split\n",
        "- min_samples_leaf\n",
        "- max_features\n",
        "\n",
        "Indica qué son cada uno de estos hiperparámetros"
      ]
    },
    {
      "cell_type": "markdown",
      "id": "bd1bad91",
      "metadata": {
        "id": "bd1bad91"
      },
      "source": [
        "* n_stimators: Es el número de árboles que hay en el bosque del Random Forest. A mayor número de árboles aumenta el rendimiento del modelo pero también el tiempo de entrenamiento y el uso de memoria.\n",
        "* criterion: Es el criterio que mide la calidad de la división en cada nodo del árbol. Se emplea para determinar cómo se evalua la calidad de las divisiones en los datos.\n",
        "* max_depth: Este parámetro define la profundidad máxima de cada arbol del bosque. Hay que tenerlo en cuenta ya que un valor bajo puede causar underfitting y un valor muy alto puede causar overfitting.\n",
        "* min_samples_split: Indica el número mínimo de muestras necesarias para dividir un nodo. Es importante ya que controla la creación de nodos. Los valores altos previenen divisiones excesivas reduciendo el overfitting.\n",
        "* min_samples_leaf: Es el número mínimo de muestras necesarias en un nodo hoja. Los nodos hoja que tienen pocas muestras son susceptibles a ser muy específicos y pueden llevar a overfitting. Aumentar este parametro ayuda a simplicar el árbol.\n",
        "* max_features: Es el número máximo de características que se tienen en cuenta al dividir un nodo. En ocasiones, limitar las características puede introducir aleatoriedad y mejorar la generalización, sobretodo en conjuntos grandes o en combinación con otros modelos como por ejemplo, Random Forests."
      ]
    },
    {
      "cell_type": "markdown",
      "id": "4fe96625",
      "metadata": {
        "id": "4fe96625"
      },
      "source": [
        "Además de los hiperparámetros que acabas de descubrir, la implementación de sklearn tiene el hiperparámetro _class_weight_\n",
        "\n",
        "¿Qué indica ese parámetro? ¿Para qué puede ser útil?"
      ]
    },
    {
      "cell_type": "markdown",
      "id": "1b9ca14f",
      "metadata": {
        "id": "1b9ca14f"
      },
      "source": [
        "El parámetro class_weight especifica como se pondera cada clase para la compensación de desbalanceos en la distribución de las etiquetas. Si una clase tiene un peso mayor, implica que los errores cometidos al clasificar ejemplos de esa clase seran peores.<br>Este parámetro es útil para manejar datasets desbalanceados, evitar el sesgo hacia otras clases mayoritarias o asignar mas peso a clases especificas."
      ]
    },
    {
      "cell_type": "markdown",
      "id": "6addd9e7",
      "metadata": {
        "id": "6addd9e7"
      },
      "source": [
        "Como primer paso para crear un clasificador de Random Forest hay que decidir si hay que hacer algún preprocesamiento adicional sobre los datos.\n",
        "¿Hace falta normalizar los datos?"
      ]
    },
    {
      "cell_type": "code",
      "execution_count": null,
      "id": "3b753ff5",
      "metadata": {
        "id": "3b753ff5"
      },
      "outputs": [],
      "source": [
        "## PON AQUÍ TU RESPUESTA Y/O CÓDIGO"
      ]
    },
    {
      "cell_type": "markdown",
      "source": [
        "No es necesario normalizar los datos para un clasificador Random Forest ya que divide los datos en funcion de unos umbrales especificos y no calcula distancias o gradientes como ocurre en las regresiones."
      ],
      "metadata": {
        "id": "PkqcLB_gkWRU"
      },
      "id": "PkqcLB_gkWRU"
    },
    {
      "cell_type": "code",
      "execution_count": null,
      "id": "fe496607",
      "metadata": {
        "id": "fe496607"
      },
      "outputs": [],
      "source": []
    },
    {
      "cell_type": "markdown",
      "id": "e3465ab1",
      "metadata": {
        "id": "e3465ab1"
      },
      "source": [
        "Entrena un conjunto de modelos de Random Forest que utilicen todas las variables del dataset, con 5, 10, 20, 50 y 100 árboles. El criterio para realizar las particiones debe ser Gini-index, la profundidad máxima de los árboles debe ser 10, el número mínimo de ejemplos para realizar una partición debe ser 10, el número mínimo de ejemplos para considerarlo una hoja debe ser 2, y el número máximo de características deben ser todas.\n",
        "\n",
        "_Nota: el entrenamiento puede tardar entre 3 y 15 minutos en función de las características del equipo._"
      ]
    },
    {
      "cell_type": "code",
      "source": [
        "# PON AQUÍ TU CÓDIGO PARA EL ENTRENAMIENTO"
      ],
      "metadata": {
        "id": "r__5HKC9ooH8"
      },
      "id": "r__5HKC9ooH8",
      "execution_count": null,
      "outputs": []
    },
    {
      "cell_type": "code",
      "execution_count": null,
      "id": "8179eb72",
      "metadata": {
        "id": "8179eb72",
        "colab": {
          "base_uri": "https://localhost:8080/"
        },
        "outputId": "8bfeb0d5-3aae-4c0f-b910-22113b96da6c"
      },
      "outputs": [
        {
          "output_type": "stream",
          "name": "stdout",
          "text": [
            "Random Forest con 5 árboles: Precisión = 0.7967\n",
            "Random Forest con 10 árboles: Precisión = 0.7972\n",
            "Random Forest con 20 árboles: Precisión = 0.7959\n",
            "Random Forest con 50 árboles: Precisión = 0.7963\n",
            "Random Forest con 100 árboles: Precisión = 0.7965\n"
          ]
        }
      ],
      "source": [
        "from sklearn.metrics import accuracy_score\n",
        "\n",
        "# numero de árboles: 5, 10, 20, 50 y 100\n",
        "from sklearn.ensemble import RandomForestClassifier\n",
        "params = {\n",
        "    \"criterion\": \"gini\",\n",
        "    \"max_depth\": 10,\n",
        "    \"min_samples_split\": 10,\n",
        "    \"min_samples_leaf\": 2,\n",
        "    \"max_features\": None,\n",
        "    \"random_state\": 42,\n",
        "}\n",
        "\n",
        "n_estimators_list = [5, 10, 20, 50, 100]\n",
        "\n",
        "results = {}\n",
        "\n",
        "for n in n_estimators_list:\n",
        "    rf = RandomForestClassifier(n_estimators=n, **params)\n",
        "    rf.fit(X_train, y_train)\n",
        "    y_pred = rf.predict(X_test)\n",
        "    accuracy = accuracy_score(y_test, y_pred)\n",
        "    results[n] = accuracy\n",
        "\n",
        "for n, acc in results.items():\n",
        "    print(f\"Random Forest con {n} árboles: Precisión = {acc:.4f}\")"
      ]
    },
    {
      "cell_type": "code",
      "execution_count": null,
      "id": "b5554898",
      "metadata": {
        "id": "b5554898"
      },
      "outputs": [],
      "source": []
    },
    {
      "cell_type": "markdown",
      "id": "5898797f",
      "metadata": {
        "id": "5898797f"
      },
      "source": [
        "Visualiza la matriz de confusión del modelo entrenado con 20 árboles."
      ]
    },
    {
      "cell_type": "code",
      "execution_count": null,
      "id": "2735dc23",
      "metadata": {
        "id": "2735dc23"
      },
      "outputs": [],
      "source": [
        "## PON AQUÍ TU CÓDIGO"
      ]
    },
    {
      "cell_type": "code",
      "execution_count": null,
      "id": "fad49946",
      "metadata": {
        "id": "fad49946",
        "colab": {
          "base_uri": "https://localhost:8080/",
          "height": 472
        },
        "outputId": "3250219d-3bcf-4435-a50d-6b5fa8a710fd"
      },
      "outputs": [
        {
          "output_type": "display_data",
          "data": {
            "text/plain": [
              "<Figure size 640x480 with 2 Axes>"
            ],
            "image/png": "[encoded data removed]"
          },
          "metadata": {}
        }
      ],
      "source": [
        "import matplotlib.pyplot as plt\n",
        "from sklearn.metrics import confusion_matrix, ConfusionMatrixDisplay\n",
        "\n",
        "rf_20 = RandomForestClassifier(n_estimators=20, **params)\n",
        "rf_20.fit(X_train, y_train)\n",
        "y_pred_20 = rf_20.predict(X_test)\n",
        "\n",
        "cm = confusion_matrix(y_test, y_pred_20)\n",
        "\n",
        "disp = ConfusionMatrixDisplay(confusion_matrix=cm, display_labels=rf_20.classes_)\n",
        "disp.plot(cmap=plt.cm.Blues)\n",
        "plt.title(\"Matriz de Confusión - Random Forest (20 árboles)\")\n",
        "plt.show()"
      ]
    },
    {
      "cell_type": "code",
      "execution_count": null,
      "id": "24076445",
      "metadata": {
        "id": "24076445"
      },
      "outputs": [],
      "source": []
    },
    {
      "cell_type": "code",
      "execution_count": null,
      "id": "3d7991b1",
      "metadata": {
        "id": "3d7991b1"
      },
      "outputs": [],
      "source": []
    },
    {
      "cell_type": "markdown",
      "id": "72ebca94",
      "metadata": {
        "id": "72ebca94"
      },
      "source": [
        "¿Cuántos ejemplos ha clasificado correctamente?"
      ]
    },
    {
      "cell_type": "markdown",
      "id": "fab58c9a",
      "metadata": {
        "id": "fab58c9a"
      },
      "source": [
        "Para determinar los ejemplos clasificados correctamente nos fijamos en los valores de la diagonal principal de la matriz de confusión. Los resultados obtenidos son:<br>\n",
        "Clase 1: 32871<br>\n",
        "Clase 2: 48449<br>\n",
        "Clase 3: 6102<br>\n",
        "Clase 4: 351<br>\n",
        "Clase 5: 506<br>\n",
        "Clase 6: 1308<br>\n",
        "Clase 7: 2899<br>\n",
        "Si sumamos estos valores obtenemos un total de **92.486** ejemplos clasificados de manera correcta."
      ]
    },
    {
      "cell_type": "markdown",
      "id": "472169f2-e1bb-437f-954c-699dbe609341",
      "metadata": {
        "id": "472169f2-e1bb-437f-954c-699dbe609341"
      },
      "source": [
        "Explica cómo funciona la clasificación para cada una de las 7 clases. ¿Hay alguna clase que clasifica mejor que otras?<br>\n",
        "Si dividimos los ejemplos correctamente clasificados entre en el total de ejemplos reales obtenemos la precision para cada clase:\n",
        "\n",
        "Clase 1: 77,2%<br>\n",
        "Clase 2: 85,7%<br>\n",
        "Clase 3: 85,7%<br>\n",
        "Clase 4: 66,7%<br>\n",
        "Clase 5: 25,4%<br>\n",
        "Clase 6: 37,5%<br>\n",
        "Clase 7: 72,2%<br>\n",
        "Las clases 2 y 3 obtienen las mejores precisiones por lo que el modelo las identiica con mas exactitud. Por otro lado la clase 5 tiene la peor precision indicando que el modelo tiene dificultades para distinguirla de otras clases.Para solucionarlo se puede considerar usar tecnicas de rebalanceo."
      ]
    },
    {
      "cell_type": "markdown",
      "id": "65c05b55",
      "metadata": {
        "id": "65c05b55"
      },
      "source": [
        "¿Cuál de todos los modelos que has entrenado obtiene mejores resultados de precisión para el conjunto de datos de test?\n",
        "\n",
        "_Nota: recuerda que es un modelo de clasificación multiclase y hay que analizar los datos para todas las clases._"
      ]
    },
    {
      "cell_type": "code",
      "execution_count": null,
      "id": "417714b6",
      "metadata": {
        "id": "417714b6"
      },
      "outputs": [],
      "source": [
        "## PON AQUÍ TU CÓDIGO Y RESPUESTA"
      ]
    },
    {
      "cell_type": "markdown",
      "id": "6d9a26ef",
      "metadata": {
        "id": "6d9a26ef"
      },
      "source": []
    },
    {
      "cell_type": "markdown",
      "id": "4b92ac9e",
      "metadata": {
        "id": "4b92ac9e"
      },
      "source": [
        "Selecciona el modelo que consideras que obtiene mejores resultados para los resultados de test. Explica por qué consideras que ese modelo es el que mejor resultados obtiene."
      ]
    },
    {
      "cell_type": "code",
      "execution_count": null,
      "id": "63f0da6a",
      "metadata": {
        "id": "63f0da6a",
        "colab": {
          "base_uri": "https://localhost:8080/",
          "height": 472
        },
        "outputId": "2a9b695f-7e35-4cdd-8bee-e2317cd0c632"
      },
      "outputs": [
        {
          "output_type": "display_data",
          "data": {
            "text/plain": [
              "<Figure size 640x480 with 2 Axes>"
            ],
            "image/png": "[encoded data removed]"
          },
          "metadata": {}
        }
      ],
      "source": [
        "import matplotlib.pyplot as plt\n",
        "from sklearn.metrics import confusion_matrix, ConfusionMatrixDisplay\n",
        "\n",
        "rf_20 = RandomForestClassifier(n_estimators=10, **params)\n",
        "rf_20.fit(X_train, y_train)\n",
        "y_pred_20 = rf_20.predict(X_test)\n",
        "\n",
        "cm = confusion_matrix(y_test, y_pred_20)\n",
        "\n",
        "disp = ConfusionMatrixDisplay(confusion_matrix=cm, display_labels=rf_20.classes_)\n",
        "disp.plot(cmap=plt.cm.Blues)\n",
        "plt.title(\"Matriz de Confusión - Random Forest (10 árboles)\")\n",
        "plt.show()"
      ]
    },
    {
      "cell_type": "markdown",
      "id": "c48515df",
      "metadata": {
        "id": "c48515df"
      },
      "source": [
        "Visualiza la matriz de confusión de los datos de test de este modelo.\n",
        "- ¿Cuántos ejemplos ha clasificado bien el modelo?\n",
        "- ¿Cuántos ejemplos ha clasificado de manera errónea?\n"
      ]
    },
    {
      "cell_type": "code",
      "execution_count": null,
      "id": "d7fa6b5d",
      "metadata": {
        "id": "d7fa6b5d",
        "colab": {
          "base_uri": "https://localhost:8080/"
        },
        "outputId": "5e3cebb2-1ca1-4bd8-87e1-cf06e5641cf6"
      },
      "outputs": [
        {
          "output_type": "stream",
          "name": "stdout",
          "text": [
            "Ejemplos clasificados correctamente: 92637\n",
            "Ejemplos clasificados de manera erronea: 23566\n"
          ]
        }
      ],
      "source": [
        "import numpy as np\n",
        "correctos = np.trace(cm)\n",
        "total = np.sum(cm)\n",
        "errores = total - correctos\n",
        "print(f\"Ejemplos clasificados correctamente: {correctos}\")\n",
        "print(f\"Ejemplos clasificados de manera erronea: {errores}\")"
      ]
    },
    {
      "cell_type": "markdown",
      "id": "9c4466e7",
      "metadata": {
        "id": "9c4466e7"
      },
      "source": [
        "Visualiza los valores de precision, recall, f1 para cada una de las clases.\n",
        "- ¿Clasifica de igual manera todas las clases o hay alguna para la que el modelo tiene una mayor capacidad predictiva?"
      ]
    },
    {
      "cell_type": "code",
      "execution_count": null,
      "id": "bed193fc",
      "metadata": {
        "id": "bed193fc"
      },
      "outputs": [],
      "source": [
        "### PON AQUÍ TU CÓDIGO E INDICA TU RESPUESTA"
      ]
    },
    {
      "cell_type": "markdown",
      "id": "5fec7fc6",
      "metadata": {
        "id": "5fec7fc6"
      },
      "source": [
        "**Support Vector Machine**"
      ]
    },
    {
      "cell_type": "code",
      "execution_count": null,
      "id": "a40cce61",
      "metadata": {
        "id": "a40cce61"
      },
      "outputs": [],
      "source": [
        "# Importamos las librerías para utilizar las máquinas de vector de soportes.\n",
        "# Utilizaremos la librería svm:\n",
        "\n",
        "from sklearn import svm\n",
        "\n",
        "#Cargamos también las librerías para hacer la matriz de confusión y la cross validation:\n",
        "\n",
        "from sklearn import metrics\n",
        "from sklearn.metrics import confusion_matrix\n",
        "from sklearn.model_selection import cross_val_score\n",
        "from sklearn.model_selection import cross_val_predict\n",
        "from sklearn.model_selection import KFold\n",
        "from sklearn.metrics import accuracy_score"
      ]
    },
    {
      "cell_type": "markdown",
      "id": "fb3e9db2",
      "metadata": {
        "id": "fb3e9db2"
      },
      "source": [
        "Para la implementación del modelo de clasificación de SVM usaremos la clase Support Vector Classifier de sklearn, https://scikit-learn.org/stable/modules/generated/sklearn.svm.SVC.html#sklearn.svm.SVC\n",
        "\n",
        "El algoritmo de SVM necesita ajustar una serie de hiperparámetros para realizar las clasificaciones. La implementación de sklearn nos da mucha flexibilidad para nuestros modelos. En general, para los problemas más comunes de clasificación, nos tenemos que preocupar de los siguientes hiperparámetros:\n",
        "- C\n",
        "- kernel\n",
        "- degree\n",
        "- gamma\n",
        "\n",
        "Indica qué son cada uno de estos hiperparámetros"
      ]
    },
    {
      "cell_type": "markdown",
      "id": "56cfc868",
      "metadata": {
        "id": "56cfc868"
      },
      "source": [
        "* C: Este parámetro controla el equilibro entre maximizar el margen y minimizar el error de clasificación para el conjunto de entrenamiento.\n",
        "* Kernel: Este parámetro define la función que el modelo SVM emplea para transformar los datos a un espacio de mas dimensiones en el que sean linealmente separables.\n",
        "* Degree: Este parámetro establece el grado del polinomio cuando se usa el kernel polinómico 'poly'.\n",
        "* Gamma: Este parámetro establece cuanto influye un solo punto de datos sobre el modelo, afectando a la forma de las regiones de clasificación."
      ]
    },
    {
      "cell_type": "markdown",
      "id": "d8602f42",
      "metadata": {
        "id": "d8602f42"
      },
      "source": [
        "Además de los hiperparámetros que acabas de descubrir, la implementación de sklearn tiene el hiperparámetro decision_function_shape\n",
        "\n",
        "¿Qué indica ese parámetro? ¿Para qué puede ser útil?"
      ]
    },
    {
      "cell_type": "markdown",
      "id": "3ed9711c",
      "metadata": {
        "id": "3ed9711c"
      },
      "source": [
        "Este parámetro controla la forma en la que se calcula la función de decisión para clasificación multiclase. Los valores posibles son 'ovo' (one-vs-one) y 'ovr' (one-vs-rest). Esto puede ser útil para ajustar como el modelo maneja las clasificaciones multiclase dependiendo de cual sea el problema que se va a tratar."
      ]
    },
    {
      "cell_type": "markdown",
      "id": "4c6c62e3-fb4a-450a-8f02-78c15827e995",
      "metadata": {
        "id": "4c6c62e3-fb4a-450a-8f02-78c15827e995"
      },
      "source": [
        "Tenemos un dataset de más de medio millón de instancias, y para el objetivo de la actividad no hacen falta tantas. Por eso, antes de aplicar SVM vamos a reducir el número de instancias. SVM requiere una gran carga computacional y con ese volumen de instancias el tiempo requerido sería demasiado elevado."
      ]
    },
    {
      "cell_type": "code",
      "execution_count": null,
      "id": "0c2eda09-2d5a-4c65-97d6-ee2e42dd7927",
      "metadata": {
        "id": "0c2eda09-2d5a-4c65-97d6-ee2e42dd7927"
      },
      "outputs": [],
      "source": [
        "df = df.head(50000)"
      ]
    },
    {
      "cell_type": "markdown",
      "id": "34b0776e-c261-4ce3-805a-7aea13356b39",
      "metadata": {
        "id": "34b0776e-c261-4ce3-805a-7aea13356b39"
      },
      "source": [
        "Nota: recuerda revisar que esta manera de seleccionar un subconjunto de instancias no altera la clase objetivo. Deberías tener un porcentaje similar de instancias de cada clase. Si no fuera así, deberás cambiar la manera de seleccionar el subconjunto."
      ]
    },
    {
      "cell_type": "code",
      "execution_count": null,
      "id": "66ea4833-4b85-4dc7-9346-12bed09d1104",
      "metadata": {
        "id": "66ea4833-4b85-4dc7-9346-12bed09d1104",
        "colab": {
          "base_uri": "https://localhost:8080/",
          "height": 406
        },
        "outputId": "8adf7879-8a93-4b4c-94b3-6d22a105ad94"
      },
      "outputs": [
        {
          "output_type": "display_data",
          "data": {
            "text/plain": [
              "<Figure size 640x480 with 1 Axes>"
            ],
            "image/png": "[encoded data removed]"
          },
          "metadata": {}
        }
      ],
      "source": [
        "df['Cover_Type'].value_counts().plot(kind='pie',autopct='%.2f',)\n",
        "plt.show()"
      ]
    },
    {
      "cell_type": "code",
      "execution_count": null,
      "id": "8701f7a1-9112-4c27-88e7-2c105f90f048",
      "metadata": {
        "id": "8701f7a1-9112-4c27-88e7-2c105f90f048"
      },
      "outputs": [],
      "source": [
        "# Con el nuevo número de instancias, separamos los datos en los conjuntos de entrenamiento y test.\n",
        "from sklearn.model_selection import train_test_split\n",
        "\n",
        "X, y = df.drop('Cover_Type',axis=1),df['Cover_Type']\n",
        "\n",
        "X_train,X_test,y_train,y_test = train_test_split(X, y, test_size=0.2, random_state=42)\n"
      ]
    },
    {
      "cell_type": "markdown",
      "id": "155f3ed0",
      "metadata": {
        "id": "155f3ed0"
      },
      "source": [
        "Como primer paso para crear un clasificador de SVM hay que decidir si hay que hacer algún preprocesamiento adicional sobre los datos. ¿Hace falta normalizar los datos?"
      ]
    },
    {
      "cell_type": "code",
      "execution_count": null,
      "id": "1fa219b7",
      "metadata": {
        "id": "1fa219b7"
      },
      "outputs": [],
      "source": [
        "## PON AQUÍ TU CÓDIGO SI CONSIDERAS QUE HAY QUE NORMALIZAR LOS DATOS\n",
        "\n",
        "from sklearn.preprocessing import StandardScaler\n",
        "from pandas import DataFrame\n",
        "\n",
        "\n",
        "scaler = StandardScaler()\n",
        "\n",
        "## COMPLETAR\n",
        "\n",
        "X_scaled = scaler.fit_transform(X)\n",
        "X_scaled = DataFrame(X_scaled, columns=X.columns)"
      ]
    },
    {
      "cell_type": "markdown",
      "id": "f773c8f8",
      "metadata": {
        "id": "f773c8f8"
      },
      "source": [
        "Entrena un conjunto de modelos de SVM que utilicen todas las variables del dataset, con C = 0.1 hasta 1000 con cinco valores diferentes; kernel radial, y gamma con valor scale."
      ]
    },
    {
      "cell_type": "code",
      "execution_count": null,
      "id": "3af670f1",
      "metadata": {
        "id": "3af670f1",
        "colab": {
          "base_uri": "https://localhost:8080/"
        },
        "outputId": "fe37c23f-5beb-47f3-af12-78dd872d425b"
      },
      "outputs": [
        {
          "output_type": "execute_result",
          "data": {
            "text/plain": [
              "[SVC(C=0.1), SVC(C=1), SVC(C=10), SVC(C=100), SVC(C=1000)]"
            ]
          },
          "metadata": {},
          "execution_count": 8
        }
      ],
      "source": [
        "from sklearn.svm import SVC\n",
        "\n",
        "C = [0.1, 1, 10, 100, 1000]\n",
        "kernel = 'rbf'\n",
        "gamma = 'scale'\n",
        "\n",
        "svc = [SVC(C=i, kernel=kernel, gamma=gamma) for i in C]\n",
        "svc"
      ]
    },
    {
      "cell_type": "code",
      "execution_count": null,
      "id": "0e666ae3-b5ff-41bb-a416-aa3838b5db89",
      "metadata": {
        "id": "0e666ae3-b5ff-41bb-a416-aa3838b5db89",
        "colab": {
          "base_uri": "https://localhost:8080/"
        },
        "outputId": "c855dd76-40a2-49b2-aeaa-3e0f0ad1b8f8"
      },
      "outputs": [
        {
          "output_type": "stream",
          "name": "stdout",
          "text": [
            "SVM con C = 0.1: Precisión = 0.7215\n",
            "SVM con C = 1: Precisión = 0.7913\n",
            "SVM con C = 10: Precisión = 0.8081\n",
            "SVM con C = 100: Precisión = 0.8258\n",
            "SVM con C = 1000: Precisión = 0.8400\n"
          ]
        }
      ],
      "source": [
        "results = {}\n",
        "\n",
        "for i, model in enumerate(svc):\n",
        "    model.fit(X_train, y_train)\n",
        "    y_pred = model.predict(X_test)\n",
        "    accuracy = accuracy_score(y_test, y_pred)\n",
        "    results[C[i]] = accuracy\n",
        "\n",
        "for c, acc in results.items():\n",
        "    print(f\"SVM con C = {c}: Precisión = {acc:.4f}\")"
      ]
    },
    {
      "cell_type": "code",
      "execution_count": null,
      "id": "cbe6a128",
      "metadata": {
        "id": "cbe6a128"
      },
      "outputs": [],
      "source": []
    },
    {
      "cell_type": "code",
      "execution_count": null,
      "id": "cb57575c",
      "metadata": {
        "id": "cb57575c"
      },
      "outputs": [],
      "source": [
        "### PON AQUÍ TU CÓDIGO"
      ]
    },
    {
      "cell_type": "code",
      "execution_count": null,
      "id": "9bfd412a",
      "metadata": {
        "id": "9bfd412a"
      },
      "outputs": [],
      "source": [
        "score"
      ]
    },
    {
      "cell_type": "code",
      "execution_count": null,
      "id": "e4c2ac9c-6411-43f4-82f5-d5ca45d336aa",
      "metadata": {
        "id": "e4c2ac9c-6411-43f4-82f5-d5ca45d336aa"
      },
      "outputs": [],
      "source": []
    },
    {
      "cell_type": "markdown",
      "id": "0ffaa64a",
      "metadata": {
        "id": "0ffaa64a"
      },
      "source": [
        "Después de hacer el entrenamiento, visualiza las matrices de confusión de los modelos entrenados."
      ]
    },
    {
      "cell_type": "code",
      "execution_count": null,
      "id": "589d3eb4",
      "metadata": {
        "id": "589d3eb4",
        "colab": {
          "base_uri": "https://localhost:8080/",
          "height": 343
        },
        "outputId": "65d8660a-b514-441c-f884-98e65fb8dc4a"
      },
      "outputs": [
        {
          "output_type": "display_data",
          "data": {
            "text/plain": [
              "<Figure size 2000x500 with 5 Axes>"
            ],
            "image/png": "[encoded data removed]"
          },
          "metadata": {}
        }
      ],
      "source": [
        "## PON AQUÍ TU CÓDIGO\n",
        "from sklearn.metrics import confusion_matrix, ConfusionMatrixDisplay\n",
        "import matplotlib.pyplot as plt\n",
        "\n",
        "fig, axes = plt.subplots(1, len(C), figsize=(20, 5))\n",
        "fig.suptitle(\"Matrices de confusión para los modelos SVM con diferentes valores de C\", fontsize=16)\n",
        "\n",
        "for i, model in enumerate(svc):\n",
        "    y_pred = model.predict(X_test)\n",
        "\n",
        "    cm = confusion_matrix(y_test, y_pred)\n",
        "\n",
        "    disp = ConfusionMatrixDisplay(confusion_matrix=cm, display_labels=np.unique(y))\n",
        "    disp.plot(ax=axes[i], colorbar=False)\n",
        "    axes[i].set_title(f\"C = {C[i]}\")\n",
        "\n",
        "plt.tight_layout()\n",
        "plt.show()"
      ]
    },
    {
      "cell_type": "markdown",
      "id": "d04ad53c",
      "metadata": {
        "id": "d04ad53c"
      },
      "source": [
        "¿Cuántos ejemplos ha clasificado correctamente cada uno de los modelos?"
      ]
    },
    {
      "cell_type": "markdown",
      "id": "8d46849d",
      "metadata": {
        "id": "8d46849d"
      },
      "source": [
        "El modelo con **C=0,1** ha clasificado 7.215 ejemplos correctamente.<br>\n",
        "El modelo con **C=1** ha clasificado 7.913 ejemplos correctamente.<br>\n",
        "El modelo con **C=10** ha clasificado 8.081 ejemplos correctamente.<br>\n",
        "El modelo con **C=100** ha clasificado 8.258 ejemplos correctamente.<br>\n",
        "El modelo con **C=1000** ha clasificado 8.400 ejemplos correctamente.<br>"
      ]
    },
    {
      "cell_type": "markdown",
      "id": "6ddb9cf9",
      "metadata": {
        "id": "6ddb9cf9"
      },
      "source": [
        "¿Cuál de todos los modelos que has entrenado obtiene mejores resultados de precision para todas las clases? Si no hay ninguno que consideres que sea óptimo, explica cómo se comporta para cada clase el modelo que consideres que tiene mejores resultados."
      ]
    },
    {
      "cell_type": "code",
      "execution_count": null,
      "id": "1278fd97",
      "metadata": {
        "id": "1278fd97"
      },
      "outputs": [],
      "source": [
        "## PON AQUÍ TU CÓDIGO"
      ]
    },
    {
      "cell_type": "markdown",
      "id": "ed4bd6a8",
      "metadata": {
        "id": "ed4bd6a8"
      },
      "source": [
        "Tal y como se aprecia en la matriz de confusion anterior, el modelo entrenado que obtiene mejores resultados de precisión para todas las clases es el de C=1000."
      ]
    },
    {
      "cell_type": "markdown",
      "id": "24bd428f",
      "metadata": {
        "id": "24bd428f"
      },
      "source": [
        "Selecciona el modelo que consideras que obtiene mejores resultados y realiza las predicciones con el conjunto de datos de test."
      ]
    },
    {
      "cell_type": "code",
      "execution_count": null,
      "id": "5eef52fa",
      "metadata": {
        "id": "5eef52fa"
      },
      "outputs": [],
      "source": [
        "## PON AQUÍ TU CÓDIGO\n",
        "modelo_svm = SVC(C=1000, kernel='rbf', gamma='scale')\n",
        "modelo_svm.fit(X_train, y_train)\n",
        "y_pred = modelo_svm.predict(X_test)"
      ]
    },
    {
      "cell_type": "markdown",
      "id": "1156e32d",
      "metadata": {
        "id": "1156e32d"
      },
      "source": [
        "Visualiza la matriz de confusión de los datos de test.\n",
        "- ¿Cuántos ejemplos ha clasificado bien el modelo?\n",
        "- ¿Cuántos ejemplos ha clasificado de manera errónea?"
      ]
    },
    {
      "cell_type": "code",
      "execution_count": null,
      "id": "0f6e0a04",
      "metadata": {
        "id": "0f6e0a04",
        "colab": {
          "base_uri": "https://localhost:8080/",
          "height": 487
        },
        "outputId": "928d963b-eb36-4123-cac9-eb2a374ccda6"
      },
      "outputs": [
        {
          "output_type": "display_data",
          "data": {
            "text/plain": [
              "<Figure size 700x500 with 2 Axes>"
            ],
            "image/png": "[encoded data removed]"
          },
          "metadata": {}
        }
      ],
      "source": [
        "### PON AQUÍ TU CÓDIGO E INDICA TU RESPUESTA\n",
        "import seaborn as sns\n",
        "import matplotlib.pyplot as plt\n",
        "from sklearn.metrics import classification_report, confusion_matrix\n",
        "\n",
        "cm = confusion_matrix(y_test, y_pred)\n",
        "\n",
        "plt.figure(figsize=(7, 5))\n",
        "sns.heatmap(cm, annot=True, fmt='d', cmap='Blues', cbar=True)\n",
        "\n",
        "plt.title(\"Matriz de Confusión - SVM\")\n",
        "plt.xlabel(\"Predicted Label\")\n",
        "plt.ylabel(\"True Label\")\n",
        "plt.show()"
      ]
    },
    {
      "cell_type": "code",
      "source": [
        "import numpy as np\n",
        "correctos = np.trace(cm)\n",
        "total = np.sum(cm)\n",
        "errores = total - correctos\n",
        "print(f\"Ejemplos clasificados correctamente: {correctos}\")\n",
        "print(f\"Ejemplos clasificados de manera erronea: {errores}\")"
      ],
      "metadata": {
        "colab": {
          "base_uri": "https://localhost:8080/"
        },
        "id": "MZIKRDHZ0bv8",
        "outputId": "a74e34e3-968c-4873-c8f9-bc5779a547ff"
      },
      "id": "MZIKRDHZ0bv8",
      "execution_count": null,
      "outputs": [
        {
          "output_type": "stream",
          "name": "stdout",
          "text": [
            "Ejemplos clasificados correctamente: 8400\n",
            "Ejemplos clasificados de manera erronea: 1600\n"
          ]
        }
      ]
    },
    {
      "cell_type": "markdown",
      "id": "b08b873b",
      "metadata": {
        "id": "b08b873b"
      },
      "source": [
        "Visualiza los valores de precision, recall, f1 para cada una de las clases.\n",
        "- ¿Clasifica de igual manera todas las clases o hay alguna para la que el modelo tiene una mayor capacidad predictiva?"
      ]
    },
    {
      "cell_type": "code",
      "execution_count": null,
      "id": "61426541",
      "metadata": {
        "id": "61426541",
        "colab": {
          "base_uri": "https://localhost:8080/"
        },
        "outputId": "a76eb5d2-0621-4bf0-937a-6692243a883c"
      },
      "outputs": [
        {
          "output_type": "stream",
          "name": "stdout",
          "text": [
            "\n",
            "Reporte de clasificación:\n",
            "              precision    recall  f1-score   support\n",
            "\n",
            "           1       0.83      0.63      0.72      2003\n",
            "           2       0.88      0.94      0.91      5755\n",
            "           3       0.62      0.59      0.60       428\n",
            "           4       0.84      0.89      0.86       440\n",
            "           5       0.74      0.77      0.76       494\n",
            "           6       0.64      0.64      0.64       430\n",
            "           7       0.87      0.93      0.90       450\n",
            "\n",
            "    accuracy                           0.84     10000\n",
            "   macro avg       0.77      0.77      0.77     10000\n",
            "weighted avg       0.84      0.84      0.84     10000\n",
            "\n"
          ]
        }
      ],
      "source": [
        "### PON AQUÍ TU CÓDIGO E INDICA TU RESPUESTA\n",
        "print(\"\\nReporte de clasificación:\")\n",
        "print(classification_report(y_test, y_pred))"
      ]
    },
    {
      "cell_type": "markdown",
      "source": [
        "El modelo tiene una mejor capacidad predictiva para la **Clase 2** con una precisión de 0,88, un recall de 0,94 y un F1-score de 0,91. La **Clase 7** tambien muestra un buen desempeño con un F1-score del 0,90, una precisión del 87% y un recall alto de 0,93.<br>\n",
        "Para las **Clases 3 y 6** el modelo tiene peor capacidad de predicción."
      ],
      "metadata": {
        "id": "oxv4vlr506sa"
      },
      "id": "oxv4vlr506sa"
    },
    {
      "cell_type": "markdown",
      "id": "c0629d8f",
      "metadata": {
        "id": "c0629d8f"
      },
      "source": [
        "**Comparativa**\n",
        "\n",
        "En base al EDA realizado, a las decisiones tomadas sobre los datos e hiperparámetros y a las características computacionales de tu equipo. ¿Qué modelo obtiene mejores resultados de clasificación?"
      ]
    },
    {
      "cell_type": "markdown",
      "source": [
        "En general, Random Forest con 20 árboles parece ser el modelo que mejores resultados globales obtiene debido a que muestra un equilibrio entre la precisión, la robustez y los tiempos de entrenamiento, se adapta ien a los datos desbalanceados y tiene un desempeño constante para todas las clases.<br>\n",
        "Por otro lado, el SVM con kernel radial también obtiene buenos resultados, pero su desempeño es inferior en clases desbalanceadas y requiere de más ajustes en el preprocesamiento de los datos y el ajuste de hiperparámetros."
      ],
      "metadata": {
        "id": "QdtgBbGV2B4y"
      },
      "id": "QdtgBbGV2B4y"
    },
    {
      "cell_type": "markdown",
      "id": "2d756202",
      "metadata": {
        "id": "2d756202"
      },
      "source": [
        "### Investigación\n",
        "\n",
        "Buscar un artículo científico (https://scholar.google.es/) con un caso de uso de clasificación empleando una de las dos técnicas (o ambas) vistas en la actividad. Los artículos deben estar en revistas científicas, y deben ser posteriores a 2015. No debe utilizar técnicas de Deep Learning."
      ]
    },
    {
      "cell_type": "markdown",
      "id": "5da25f3b",
      "metadata": {
        "id": "5da25f3b"
      },
      "source": [
        "Baron, C., & Froelich, M. (2023). Sentiment analysis and random forest to classify LLM versus human source applied to scientific texts. arXiv. https://doi.org/10.48550/arXiv.2404.08673\n",
        "\n",
        "título, autores, revista, año de publicación\n",
        "\n",
        "Objetivo: cuál es el objetivo de la investigación, es decir a qué problema real está aplicando la clasificación.\n",
        "Técnicas de clasificación empleadas y si realiza alguna adaptación.\n",
        "Principales resultados de la aplicación y de la investigación."
      ]
    },
    {
      "cell_type": "markdown",
      "source": [
        "El objetivo de la investigación es la clasificación de textos científicos generados por modelos de lenguaje LLM y escritos por humanos. Con esto se pretende detectar posibles fraudes academicos o plagios, especialmente en entornos donde se crean textos extensos que podrian ser generados por modelos de inteligencia artificial en vez de por humanos. La clasificacion tiene aplicaciones prácticas en analisis del contenido cientifico, evaluaciones academicas y control de calidad en publicaciones academicas.<br>\n",
        "Las técnicas de clasificacion empleadas han sido el analisis de sentimientos, como herramienta para identificar caracteristicas lingüisticas que puedan diferenciar textos escritos manualmente de textos generados por modelos y el clasificador Random Forest para clasificar en dos categorias: 'generado por LLM' y 'generado por humano'. Se eligio Random Forest por su capacidad para manejar grandes caracteristicas y su eficacia en tareas de clasificación.<br>\n",
        "El modelo tuvo un alto rendimiento al clasificar los textos cientificos, con una elevada precision distinguiendo los generados por LLM y humanos. El analisis de los sentimientos revelo que algunas caracteristicas lingüisticas, como el uso de palabras y la sintaxis son muy importantes para realizar una clasificación precisa. También obtuvo grandes resultados enfrentandose a textos técnicos y cientificos, que en este caso es relevante para el caso de estudio."
      ],
      "metadata": {
        "id": "u_lPh6YhvIK6"
      },
      "id": "u_lPh6YhvIK6"
    }
  ],
  "metadata": {
    "kernelspec": {
      "display_name": "Python 3",
      "name": "python3"
    },
    "language_info": {
      "codemirror_mode": {
        "name": "ipython",
        "version": 3
      },
      "file_extension": ".py",
      "mimetype": "text/x-python",
      "name": "python",
      "nbconvert_exporter": "python",
      "pygments_lexer": "ipython3",
      "version": "3.8.18"
    },
    "colab": {
      "provenance": [],
      "gpuType": "L4"
    },
    "accelerator": "GPU"
  },
  "nbformat": 4,
  "nbformat_minor": 5
}